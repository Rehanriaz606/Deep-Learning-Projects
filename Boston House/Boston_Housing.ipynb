{
  "nbformat": 4,
  "nbformat_minor": 0,
  "metadata": {
    "colab": {
      "name": "Boston_Housing.ipynb",
      "provenance": []
    },
    "kernelspec": {
      "name": "python3",
      "display_name": "Python 3"
    },
    "language_info": {
      "name": "python"
    }
  },
  "cells": [
    {
      "cell_type": "code",
      "metadata": {
        "id": "EqN3Gm8CYdaf"
      },
      "source": [
        "from keras.datasets import boston_housing"
      ],
      "execution_count": 46,
      "outputs": []
    },
    {
      "cell_type": "code",
      "metadata": {
        "id": "I6aThP1YY9-o"
      },
      "source": [
        "(train_data, train_targets), (test_data, test_targets) = boston_housing.load_data()"
      ],
      "execution_count": 47,
      "outputs": []
    },
    {
      "cell_type": "code",
      "metadata": {
        "id": "HSmmUFgOZBo-"
      },
      "source": [
        "from sklearn import preprocessing\n",
        "tain_data=preprocessing.normalize(train_data)\n",
        "test_data=preprocessing.normalize(test_data)"
      ],
      "execution_count": 48,
      "outputs": []
    },
    {
      "cell_type": "code",
      "metadata": {
        "id": "21575g9SZrbm"
      },
      "source": [
        "from tensorflow.keras import models\n",
        "from tensorflow.keras.layers import *"
      ],
      "execution_count": 49,
      "outputs": []
    },
    {
      "cell_type": "code",
      "metadata": {
        "id": "T_RBCNZzZuFJ"
      },
      "source": [
        "model = models.Sequential()"
      ],
      "execution_count": 50,
      "outputs": []
    },
    {
      "cell_type": "code",
      "metadata": {
        "id": "1xyrt2srZxCS"
      },
      "source": [
        "model.add(Dense(180,activation='relu',input_shape=(train_data.shape[1],)))\n",
        "model.add(Dense(52,activation='relu'))\n",
        "model.add(Dense(1))"
      ],
      "execution_count": 51,
      "outputs": []
    },
    {
      "cell_type": "code",
      "metadata": {
        "id": "t2UFzKlqZ1Gs"
      },
      "source": [
        "model.compile(optimizer='rmsprop',loss='mae',metrics=['mae'])"
      ],
      "execution_count": 52,
      "outputs": []
    },
    {
      "cell_type": "code",
      "metadata": {
        "colab": {
          "base_uri": "https://localhost:8080/"
        },
        "id": "OV5G9jr5Z5ox",
        "outputId": "52f81590-5d5b-40a7-9e2b-aff39ee18221"
      },
      "source": [
        "model.fit(train_data,train_targets,epochs=10)"
      ],
      "execution_count": 53,
      "outputs": [
        {
          "output_type": "stream",
          "name": "stdout",
          "text": [
            "Epoch 1/10\n",
            "13/13 [==============================] - 1s 2ms/step - loss: 13.4768 - mae: 13.4768\n",
            "Epoch 2/10\n",
            "13/13 [==============================] - 0s 2ms/step - loss: 7.9855 - mae: 7.9855\n",
            "Epoch 3/10\n",
            "13/13 [==============================] - 0s 2ms/step - loss: 7.6740 - mae: 7.6740\n",
            "Epoch 4/10\n",
            "13/13 [==============================] - 0s 2ms/step - loss: 7.2638 - mae: 7.2638\n",
            "Epoch 5/10\n",
            "13/13 [==============================] - 0s 2ms/step - loss: 7.1704 - mae: 7.1704\n",
            "Epoch 6/10\n",
            "13/13 [==============================] - 0s 2ms/step - loss: 7.3477 - mae: 7.3477\n",
            "Epoch 7/10\n",
            "13/13 [==============================] - 0s 2ms/step - loss: 5.9081 - mae: 5.9081\n",
            "Epoch 8/10\n",
            "13/13 [==============================] - 0s 2ms/step - loss: 7.1589 - mae: 7.1589\n",
            "Epoch 9/10\n",
            "13/13 [==============================] - 0s 2ms/step - loss: 7.5921 - mae: 7.5921\n",
            "Epoch 10/10\n",
            "13/13 [==============================] - 0s 2ms/step - loss: 6.2665 - mae: 6.2665\n"
          ]
        },
        {
          "output_type": "execute_result",
          "data": {
            "text/plain": [
              "<keras.callbacks.History at 0x7fb5951dadd0>"
            ]
          },
          "metadata": {},
          "execution_count": 53
        }
      ]
    },
    {
      "cell_type": "code",
      "metadata": {
        "colab": {
          "base_uri": "https://localhost:8080/"
        },
        "id": "CI8FZrKHZ71A",
        "outputId": "34809ffb-afd6-4294-eebb-417b4970073f"
      },
      "source": [
        "model.evaluate(test_data,test_targets)"
      ],
      "execution_count": 54,
      "outputs": [
        {
          "output_type": "stream",
          "name": "stdout",
          "text": [
            "4/4 [==============================] - 0s 3ms/step - loss: 23.0485 - mae: 23.0485\n"
          ]
        },
        {
          "output_type": "execute_result",
          "data": {
            "text/plain": [
              "[23.048521041870117, 23.048521041870117]"
            ]
          },
          "metadata": {},
          "execution_count": 54
        }
      ]
    },
    {
      "cell_type": "code",
      "metadata": {
        "id": "RE1askx2afT8"
      },
      "source": [
        ""
      ],
      "execution_count": 54,
      "outputs": []
    }
  ]
}