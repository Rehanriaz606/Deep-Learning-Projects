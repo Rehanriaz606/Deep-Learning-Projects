{
  "nbformat": 4,
  "nbformat_minor": 0,
  "metadata": {
    "colab": {
      "name": "Brain_Tumor_Cancer_Detection.ipynb",
      "provenance": [],
      "collapsed_sections": []
    },
    "kernelspec": {
      "name": "python3",
      "display_name": "Python 3"
    },
    "language_info": {
      "name": "python"
    },
    "accelerator": "GPU"
  },
  "cells": [
    {
      "cell_type": "code",
      "metadata": {
        "id": "y2Fq2XAAgoRw"
      },
      "source": [
        ""
      ],
      "execution_count": 12,
      "outputs": []
    },
    {
      "cell_type": "code",
      "metadata": {
        "colab": {
          "base_uri": "https://localhost:8080/"
        },
        "id": "LYxEbYCDg34Y",
        "outputId": "08a727fd-7843-4753-b872-30063faa57fb"
      },
      "source": [
        "from google.colab import drive\n",
        "drive.mount('/content/drive')"
      ],
      "execution_count": 13,
      "outputs": [
        {
          "output_type": "stream",
          "name": "stdout",
          "text": [
            "Drive already mounted at /content/drive; to attempt to forcibly remount, call drive.mount(\"/content/drive\", force_remount=True).\n"
          ]
        }
      ]
    },
    {
      "cell_type": "code",
      "metadata": {
        "id": "apM94sRthARE"
      },
      "source": [
        "import tensorflow\n",
        "from tensorflow.keras.applications import VGG16\n",
        "conv_base = VGG16(weights='imagenet',\n",
        "include_top=False,\n",
        "input_shape=(150, 150, 3))"
      ],
      "execution_count": 14,
      "outputs": []
    },
    {
      "cell_type": "code",
      "metadata": {
        "colab": {
          "base_uri": "https://localhost:8080/"
        },
        "id": "Fe4JlMc0kBAB",
        "outputId": "d3bed165-3f81-4670-ba39-8181b517eb87"
      },
      "source": [
        "conv_base.summary()"
      ],
      "execution_count": 15,
      "outputs": [
        {
          "output_type": "stream",
          "name": "stdout",
          "text": [
            "Model: \"vgg16\"\n",
            "_________________________________________________________________\n",
            "Layer (type)                 Output Shape              Param #   \n",
            "=================================================================\n",
            "input_2 (InputLayer)         [(None, 150, 150, 3)]     0         \n",
            "_________________________________________________________________\n",
            "block1_conv1 (Conv2D)        (None, 150, 150, 64)      1792      \n",
            "_________________________________________________________________\n",
            "block1_conv2 (Conv2D)        (None, 150, 150, 64)      36928     \n",
            "_________________________________________________________________\n",
            "block1_pool (MaxPooling2D)   (None, 75, 75, 64)        0         \n",
            "_________________________________________________________________\n",
            "block2_conv1 (Conv2D)        (None, 75, 75, 128)       73856     \n",
            "_________________________________________________________________\n",
            "block2_conv2 (Conv2D)        (None, 75, 75, 128)       147584    \n",
            "_________________________________________________________________\n",
            "block2_pool (MaxPooling2D)   (None, 37, 37, 128)       0         \n",
            "_________________________________________________________________\n",
            "block3_conv1 (Conv2D)        (None, 37, 37, 256)       295168    \n",
            "_________________________________________________________________\n",
            "block3_conv2 (Conv2D)        (None, 37, 37, 256)       590080    \n",
            "_________________________________________________________________\n",
            "block3_conv3 (Conv2D)        (None, 37, 37, 256)       590080    \n",
            "_________________________________________________________________\n",
            "block3_pool (MaxPooling2D)   (None, 18, 18, 256)       0         \n",
            "_________________________________________________________________\n",
            "block4_conv1 (Conv2D)        (None, 18, 18, 512)       1180160   \n",
            "_________________________________________________________________\n",
            "block4_conv2 (Conv2D)        (None, 18, 18, 512)       2359808   \n",
            "_________________________________________________________________\n",
            "block4_conv3 (Conv2D)        (None, 18, 18, 512)       2359808   \n",
            "_________________________________________________________________\n",
            "block4_pool (MaxPooling2D)   (None, 9, 9, 512)         0         \n",
            "_________________________________________________________________\n",
            "block5_conv1 (Conv2D)        (None, 9, 9, 512)         2359808   \n",
            "_________________________________________________________________\n",
            "block5_conv2 (Conv2D)        (None, 9, 9, 512)         2359808   \n",
            "_________________________________________________________________\n",
            "block5_conv3 (Conv2D)        (None, 9, 9, 512)         2359808   \n",
            "_________________________________________________________________\n",
            "block5_pool (MaxPooling2D)   (None, 4, 4, 512)         0         \n",
            "=================================================================\n",
            "Total params: 14,714,688\n",
            "Trainable params: 14,714,688\n",
            "Non-trainable params: 0\n",
            "_________________________________________________________________\n"
          ]
        }
      ]
    },
    {
      "cell_type": "code",
      "metadata": {
        "id": "KlKbpkD9kOou"
      },
      "source": [
        "from tensorflow.keras import layers\n",
        "from tensorflow.keras import models\n",
        "model = models.Sequential()\n",
        "model.add(conv_base)\n",
        "model.add(layers.Flatten())\n",
        "model.add(layers.Dropout(0.25))\n",
        "model.add(layers.Dense(256, activation='relu'))\n",
        "model.add(layers.Dense(1, activation='sigmoid'))\n"
      ],
      "execution_count": 16,
      "outputs": []
    },
    {
      "cell_type": "code",
      "metadata": {
        "colab": {
          "base_uri": "https://localhost:8080/"
        },
        "id": "hjYOEPa8kWUH",
        "outputId": "cfa1130b-c3a7-42c8-8906-5fec766a19a6"
      },
      "source": [
        "model.summary()"
      ],
      "execution_count": 17,
      "outputs": [
        {
          "output_type": "stream",
          "name": "stdout",
          "text": [
            "Model: \"sequential_1\"\n",
            "_________________________________________________________________\n",
            "Layer (type)                 Output Shape              Param #   \n",
            "=================================================================\n",
            "vgg16 (Functional)           (None, 4, 4, 512)         14714688  \n",
            "_________________________________________________________________\n",
            "flatten_1 (Flatten)          (None, 8192)              0         \n",
            "_________________________________________________________________\n",
            "dropout (Dropout)            (None, 8192)              0         \n",
            "_________________________________________________________________\n",
            "dense_2 (Dense)              (None, 256)               2097408   \n",
            "_________________________________________________________________\n",
            "dense_3 (Dense)              (None, 1)                 257       \n",
            "=================================================================\n",
            "Total params: 16,812,353\n",
            "Trainable params: 16,812,353\n",
            "Non-trainable params: 0\n",
            "_________________________________________________________________\n"
          ]
        }
      ]
    },
    {
      "cell_type": "code",
      "metadata": {
        "id": "Q7o1yVRJkano"
      },
      "source": [
        "opt = tensorflow.keras.optimizers.RMSprop\n",
        "model.compile(loss='binary_crossentropy',\n",
        "optimizer=opt(learning_rate=2e-5),\n",
        "metrics=['acc'])"
      ],
      "execution_count": 18,
      "outputs": []
    },
    {
      "cell_type": "code",
      "metadata": {
        "id": "KQp5_sm5kfpf"
      },
      "source": [
        "train_dir = '/content/drive/MyDrive/brain_tumor_dataset/Train'\n",
        "validation_dir= '/content/drive/MyDrive/brain_tumor_dataset/Validation' "
      ],
      "execution_count": 19,
      "outputs": []
    },
    {
      "cell_type": "code",
      "metadata": {
        "id": "aUigg1zHkzzw"
      },
      "source": [
        "from keras.preprocessing.image import ImageDataGenerator"
      ],
      "execution_count": 20,
      "outputs": []
    },
    {
      "cell_type": "code",
      "metadata": {
        "id": "z2WtTVkak_rm"
      },
      "source": [
        "train_datagen = ImageDataGenerator(rescale=1./255,rotation_range=40,\n",
        "                                    width_shift_range=0.2,\n",
        "                                    height_shift_range=0.2,\n",
        "                                    shear_range=0.2,\n",
        "                                    zoom_range=0.2,\n",
        "                                    horizontal_flip=True,)\n",
        "validation_datagen = ImageDataGenerator(rescale=1./255)"
      ],
      "execution_count": 21,
      "outputs": []
    },
    {
      "cell_type": "code",
      "metadata": {
        "colab": {
          "base_uri": "https://localhost:8080/"
        },
        "id": "HvyaEgZSlFTW",
        "outputId": "2fdd6e9e-80d9-482a-ed35-d17c5a2e6f5c"
      },
      "source": [
        "train_generator = train_datagen.flow_from_directory(\n",
        "train_dir,\n",
        "target_size=(150, 150),\n",
        "batch_size=20,\n",
        "class_mode='binary')"
      ],
      "execution_count": 22,
      "outputs": [
        {
          "output_type": "stream",
          "name": "stdout",
          "text": [
            "Found 160 images belonging to 2 classes.\n"
          ]
        }
      ]
    },
    {
      "cell_type": "code",
      "metadata": {
        "colab": {
          "base_uri": "https://localhost:8080/"
        },
        "id": "3gSHjbELlIVU",
        "outputId": "4d5879f3-7f73-4f28-e1dd-b74d9b31b33f"
      },
      "source": [
        "validation_generator = validation_datagen.flow_from_directory(validation_dir,target_size=(150, 150),batch_size=20,class_mode='binary')"
      ],
      "execution_count": 23,
      "outputs": [
        {
          "output_type": "stream",
          "name": "stdout",
          "text": [
            "Found 44 images belonging to 2 classes.\n"
          ]
        }
      ]
    },
    {
      "cell_type": "code",
      "metadata": {
        "colab": {
          "base_uri": "https://localhost:8080/"
        },
        "id": "HUkC5jn-lMVx",
        "outputId": "57f7d88e-eddb-40cf-e90a-ee8bdef04f0b"
      },
      "source": [
        "history = model.fit_generator(\n",
        "train_generator,\n",
        "steps_per_epoch=4,\n",
        "epochs=30,\n",
        "validation_data=validation_generator,\n",
        "validation_steps=1)"
      ],
      "execution_count": 24,
      "outputs": [
        {
          "output_type": "stream",
          "name": "stderr",
          "text": [
            "/usr/local/lib/python3.7/dist-packages/keras/engine/training.py:1972: UserWarning: `Model.fit_generator` is deprecated and will be removed in a future version. Please use `Model.fit`, which supports generators.\n",
            "  warnings.warn('`Model.fit_generator` is deprecated and '\n"
          ]
        },
        {
          "output_type": "stream",
          "name": "stdout",
          "text": [
            "Epoch 1/30\n",
            "4/4 [==============================] - 4s 544ms/step - loss: 0.7639 - acc: 0.5750 - val_loss: 0.6064 - val_acc: 0.9000\n",
            "Epoch 2/30\n",
            "4/4 [==============================] - 2s 436ms/step - loss: 0.6565 - acc: 0.6250 - val_loss: 0.6149 - val_acc: 0.9000\n",
            "Epoch 3/30\n",
            "4/4 [==============================] - 2s 438ms/step - loss: 0.6817 - acc: 0.5500 - val_loss: 0.6219 - val_acc: 0.5500\n",
            "Epoch 4/30\n",
            "4/4 [==============================] - 2s 439ms/step - loss: 0.6509 - acc: 0.6125 - val_loss: 0.6682 - val_acc: 0.5500\n",
            "Epoch 5/30\n",
            "4/4 [==============================] - 2s 442ms/step - loss: 0.5967 - acc: 0.7125 - val_loss: 0.6452 - val_acc: 0.5500\n",
            "Epoch 6/30\n",
            "4/4 [==============================] - 2s 442ms/step - loss: 0.6572 - acc: 0.6625 - val_loss: 0.6835 - val_acc: 0.5000\n",
            "Epoch 7/30\n",
            "4/4 [==============================] - 2s 441ms/step - loss: 0.5841 - acc: 0.6750 - val_loss: 0.5966 - val_acc: 0.6000\n",
            "Epoch 8/30\n",
            "4/4 [==============================] - 2s 437ms/step - loss: 0.6038 - acc: 0.6875 - val_loss: 0.6300 - val_acc: 0.6000\n",
            "Epoch 9/30\n",
            "4/4 [==============================] - 2s 436ms/step - loss: 0.6094 - acc: 0.6875 - val_loss: 0.6740 - val_acc: 0.5500\n",
            "Epoch 10/30\n",
            "4/4 [==============================] - 2s 438ms/step - loss: 0.5472 - acc: 0.6750 - val_loss: 0.4146 - val_acc: 0.8500\n",
            "Epoch 11/30\n",
            "4/4 [==============================] - 2s 438ms/step - loss: 0.6612 - acc: 0.6625 - val_loss: 0.4124 - val_acc: 0.8000\n",
            "Epoch 12/30\n",
            "4/4 [==============================] - 2s 436ms/step - loss: 0.4873 - acc: 0.8000 - val_loss: 0.4234 - val_acc: 0.8500\n",
            "Epoch 13/30\n",
            "4/4 [==============================] - 2s 441ms/step - loss: 0.5176 - acc: 0.7125 - val_loss: 0.4970 - val_acc: 0.8500\n",
            "Epoch 14/30\n",
            "4/4 [==============================] - 2s 440ms/step - loss: 0.3468 - acc: 0.8625 - val_loss: 0.3651 - val_acc: 0.8000\n",
            "Epoch 15/30\n",
            "4/4 [==============================] - 2s 436ms/step - loss: 0.3801 - acc: 0.8125 - val_loss: 0.3622 - val_acc: 0.8500\n",
            "Epoch 16/30\n",
            "4/4 [==============================] - 2s 438ms/step - loss: 0.3401 - acc: 0.8375 - val_loss: 0.5706 - val_acc: 0.7000\n",
            "Epoch 17/30\n",
            "4/4 [==============================] - 2s 439ms/step - loss: 0.3965 - acc: 0.8375 - val_loss: 0.4655 - val_acc: 0.8000\n",
            "Epoch 18/30\n",
            "4/4 [==============================] - 2s 443ms/step - loss: 0.3163 - acc: 0.8375 - val_loss: 0.6245 - val_acc: 0.7000\n",
            "Epoch 19/30\n",
            "4/4 [==============================] - 2s 437ms/step - loss: 0.5215 - acc: 0.7625 - val_loss: 0.7409 - val_acc: 0.5500\n",
            "Epoch 20/30\n",
            "4/4 [==============================] - 2s 443ms/step - loss: 0.3630 - acc: 0.8125 - val_loss: 0.4054 - val_acc: 0.8000\n",
            "Epoch 21/30\n",
            "4/4 [==============================] - 2s 443ms/step - loss: 0.2993 - acc: 0.9125 - val_loss: 0.5209 - val_acc: 0.8500\n",
            "Epoch 22/30\n",
            "4/4 [==============================] - 2s 438ms/step - loss: 0.2515 - acc: 0.8875 - val_loss: 0.4175 - val_acc: 0.7000\n",
            "Epoch 23/30\n",
            "4/4 [==============================] - 2s 442ms/step - loss: 0.2692 - acc: 0.9250 - val_loss: 0.7063 - val_acc: 0.6500\n",
            "Epoch 24/30\n",
            "4/4 [==============================] - 2s 438ms/step - loss: 0.1684 - acc: 0.9625 - val_loss: 0.4659 - val_acc: 0.8500\n",
            "Epoch 25/30\n",
            "4/4 [==============================] - 2s 435ms/step - loss: 0.4804 - acc: 0.7625 - val_loss: 0.3623 - val_acc: 0.8000\n",
            "Epoch 26/30\n",
            "4/4 [==============================] - 2s 443ms/step - loss: 0.2306 - acc: 0.9000 - val_loss: 0.5207 - val_acc: 0.8500\n",
            "Epoch 27/30\n",
            "4/4 [==============================] - 2s 436ms/step - loss: 0.1572 - acc: 0.9375 - val_loss: 0.4571 - val_acc: 0.8500\n",
            "Epoch 28/30\n",
            "4/4 [==============================] - 2s 436ms/step - loss: 0.1432 - acc: 0.9625 - val_loss: 0.4894 - val_acc: 0.7500\n",
            "Epoch 29/30\n",
            "4/4 [==============================] - 2s 441ms/step - loss: 0.3567 - acc: 0.8500 - val_loss: 0.3808 - val_acc: 0.8500\n",
            "Epoch 30/30\n",
            "4/4 [==============================] - 2s 439ms/step - loss: 0.1659 - acc: 0.9375 - val_loss: 0.3092 - val_acc: 0.8500\n"
          ]
        }
      ]
    },
    {
      "cell_type": "code",
      "metadata": {
        "id": "-C3zbxxapz3O"
      },
      "source": [
        ""
      ],
      "execution_count": null,
      "outputs": []
    }
  ]
}