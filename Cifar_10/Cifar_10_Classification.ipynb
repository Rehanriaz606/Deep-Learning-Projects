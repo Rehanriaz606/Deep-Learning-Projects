{
  "nbformat": 4,
  "nbformat_minor": 0,
  "metadata": {
    "colab": {
      "name": "Cifar-10_Classification.ipynb",
      "provenance": []
    },
    "kernelspec": {
      "name": "python3",
      "display_name": "Python 3"
    },
    "language_info": {
      "name": "python"
    },
    "accelerator": "GPU"
  },
  "cells": [
    {
      "cell_type": "code",
      "metadata": {
        "id": "hmmbA5Hlx3YN"
      },
      "source": [
        "\n",
        "import tensorflow as tf\n",
        "\n",
        "from tensorflow.keras import datasets, layers, models"
      ],
      "execution_count": 33,
      "outputs": []
    },
    {
      "cell_type": "code",
      "metadata": {
        "id": "jyw6lt6qx6xB"
      },
      "source": [
        "(train_images, train_labels), (test_images, test_labels) = datasets.cifar10.load_data()\n",
        "\n",
        "# Normalize pixel values to be between 0 and 1\n",
        "train_images, test_images = train_images / 255.0, test_images / 255.0"
      ],
      "execution_count": 34,
      "outputs": []
    },
    {
      "cell_type": "code",
      "metadata": {
        "id": "4aq17fhYx_7Z"
      },
      "source": [
        "\n",
        "model = models.Sequential()\n",
        "model.add(layers.Conv2D(32, (3, 3), activation='relu', input_shape=(32, 32, 3)))\n",
        "model.add(layers.MaxPooling2D((2, 2)))\n",
        "model.add(layers.Conv2D(64, (3, 3), activation='relu'))\n",
        "model.add(layers.Conv2D(64, (3, 3), activation='relu'))\n",
        "model.add(layers.MaxPooling2D((2, 2)))\n",
        "model.add(layers.Conv2D(64, (3, 3), activation='relu'))"
      ],
      "execution_count": 35,
      "outputs": []
    },
    {
      "cell_type": "code",
      "metadata": {
        "id": "eIoQh-Y_yEEU"
      },
      "source": [
        "\n",
        "model.add(layers.Flatten())\n",
        "model.add(layers.Dense(64, activation='relu'))\n",
        "model.add(layers.Dense(10,activation='softmax'))"
      ],
      "execution_count": 36,
      "outputs": []
    },
    {
      "cell_type": "code",
      "metadata": {
        "colab": {
          "base_uri": "https://localhost:8080/"
        },
        "id": "64yu2jrdyHE3",
        "outputId": "3ef0d94a-7ccb-4b1d-973b-8bf5e77fa102"
      },
      "source": [
        "model.compile(optimizer='adam',\n",
        "              loss='sparse_categorical_crossentropy',\n",
        "              metrics=['accuracy'])\n",
        "\n",
        "history = model.fit(train_images, train_labels, epochs=10)"
      ],
      "execution_count": null,
      "outputs": [
        {
          "output_type": "stream",
          "name": "stdout",
          "text": [
            "Epoch 1/10\n",
            "1563/1563 [==============================] - 15s 9ms/step - loss: 1.5854 - accuracy: 0.4148\n",
            "Epoch 2/10\n",
            "1563/1563 [==============================] - 14s 9ms/step - loss: 1.2020 - accuracy: 0.5716\n",
            "Epoch 3/10\n",
            "1563/1563 [==============================] - 15s 9ms/step - loss: 1.0399 - accuracy: 0.6321\n",
            "Epoch 4/10\n",
            "1563/1563 [==============================] - 15s 9ms/step - loss: 0.9294 - accuracy: 0.6731\n",
            "Epoch 5/10\n",
            "1563/1563 [==============================] - 15s 9ms/step - loss: 0.8546 - accuracy: 0.7003\n",
            "Epoch 6/10\n",
            "1563/1563 [==============================] - 15s 9ms/step - loss: 0.7892 - accuracy: 0.7237\n",
            "Epoch 7/10\n",
            " 369/1563 [======>.......................] - ETA: 11s - loss: 0.7268 - accuracy: 0.7471"
          ]
        }
      ]
    },
    {
      "cell_type": "code",
      "metadata": {
        "colab": {
          "base_uri": "https://localhost:8080/"
        },
        "id": "vzXBB9vYy-BL",
        "outputId": "2aeab6fb-d4e8-4f3c-8117-1c23140898ac"
      },
      "source": [
        "model.evaluate(test_images,test_labels)"
      ],
      "execution_count": 39,
      "outputs": [
        {
          "output_type": "stream",
          "name": "stdout",
          "text": [
            "313/313 [==============================] - 2s 5ms/step - loss: 0.8599 - accuracy: 0.7168\n"
          ]
        },
        {
          "output_type": "execute_result",
          "data": {
            "text/plain": [
              "[0.8599324226379395, 0.7167999744415283]"
            ]
          },
          "metadata": {},
          "execution_count": 39
        }
      ]
    },
    {
      "cell_type": "code",
      "metadata": {
        "id": "tlcwSoqczEZ0"
      },
      "source": [
        ""
      ],
      "execution_count": null,
      "outputs": []
    }
  ]
}