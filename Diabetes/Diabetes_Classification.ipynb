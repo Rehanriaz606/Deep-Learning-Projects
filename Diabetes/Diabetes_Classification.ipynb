{
  "nbformat": 4,
  "nbformat_minor": 0,
  "metadata": {
    "colab": {
      "name": "Diabetes Classification.ipynb",
      "provenance": [],
      "collapsed_sections": []
    },
    "kernelspec": {
      "name": "python3",
      "display_name": "Python 3"
    },
    "language_info": {
      "name": "python"
    },
    "accelerator": "GPU"
  },
  "cells": [
    {
      "cell_type": "code",
      "metadata": {
        "id": "HaBXcaPch18L"
      },
      "source": [
        "import pandas as pd"
      ],
      "execution_count": 345,
      "outputs": []
    },
    {
      "cell_type": "code",
      "metadata": {
        "id": "Mp66GYZoKobS"
      },
      "source": [
        "import numpy as np"
      ],
      "execution_count": 346,
      "outputs": []
    },
    {
      "cell_type": "code",
      "metadata": {
        "id": "dBhuVGVFiaFG"
      },
      "source": [
        "data=pd.read_csv(\"/content/diabetes.csv\")"
      ],
      "execution_count": 347,
      "outputs": []
    },
    {
      "cell_type": "code",
      "metadata": {
        "colab": {
          "base_uri": "https://localhost:8080/",
          "height": 419
        },
        "id": "q-nv0ykDimjn",
        "outputId": "e27e7bc2-d9d1-4da7-d766-ba7e3a74415b"
      },
      "source": [
        "data"
      ],
      "execution_count": 348,
      "outputs": [
        {
          "output_type": "execute_result",
          "data": {
            "text/html": [
              "<div>\n",
              "<style scoped>\n",
              "    .dataframe tbody tr th:only-of-type {\n",
              "        vertical-align: middle;\n",
              "    }\n",
              "\n",
              "    .dataframe tbody tr th {\n",
              "        vertical-align: top;\n",
              "    }\n",
              "\n",
              "    .dataframe thead th {\n",
              "        text-align: right;\n",
              "    }\n",
              "</style>\n",
              "<table border=\"1\" class=\"dataframe\">\n",
              "  <thead>\n",
              "    <tr style=\"text-align: right;\">\n",
              "      <th></th>\n",
              "      <th>Pregnancies</th>\n",
              "      <th>Glucose</th>\n",
              "      <th>BloodPressure</th>\n",
              "      <th>SkinThickness</th>\n",
              "      <th>Insulin</th>\n",
              "      <th>BMI</th>\n",
              "      <th>DiabetesPedigreeFunction</th>\n",
              "      <th>Age</th>\n",
              "      <th>Outcome</th>\n",
              "    </tr>\n",
              "  </thead>\n",
              "  <tbody>\n",
              "    <tr>\n",
              "      <th>0</th>\n",
              "      <td>6</td>\n",
              "      <td>148</td>\n",
              "      <td>72</td>\n",
              "      <td>35</td>\n",
              "      <td>0</td>\n",
              "      <td>33.6</td>\n",
              "      <td>0.627</td>\n",
              "      <td>50</td>\n",
              "      <td>1</td>\n",
              "    </tr>\n",
              "    <tr>\n",
              "      <th>1</th>\n",
              "      <td>1</td>\n",
              "      <td>85</td>\n",
              "      <td>66</td>\n",
              "      <td>29</td>\n",
              "      <td>0</td>\n",
              "      <td>26.6</td>\n",
              "      <td>0.351</td>\n",
              "      <td>31</td>\n",
              "      <td>0</td>\n",
              "    </tr>\n",
              "    <tr>\n",
              "      <th>2</th>\n",
              "      <td>8</td>\n",
              "      <td>183</td>\n",
              "      <td>64</td>\n",
              "      <td>0</td>\n",
              "      <td>0</td>\n",
              "      <td>23.3</td>\n",
              "      <td>0.672</td>\n",
              "      <td>32</td>\n",
              "      <td>1</td>\n",
              "    </tr>\n",
              "    <tr>\n",
              "      <th>3</th>\n",
              "      <td>1</td>\n",
              "      <td>89</td>\n",
              "      <td>66</td>\n",
              "      <td>23</td>\n",
              "      <td>94</td>\n",
              "      <td>28.1</td>\n",
              "      <td>0.167</td>\n",
              "      <td>21</td>\n",
              "      <td>0</td>\n",
              "    </tr>\n",
              "    <tr>\n",
              "      <th>4</th>\n",
              "      <td>0</td>\n",
              "      <td>137</td>\n",
              "      <td>40</td>\n",
              "      <td>35</td>\n",
              "      <td>168</td>\n",
              "      <td>43.1</td>\n",
              "      <td>2.288</td>\n",
              "      <td>33</td>\n",
              "      <td>1</td>\n",
              "    </tr>\n",
              "    <tr>\n",
              "      <th>...</th>\n",
              "      <td>...</td>\n",
              "      <td>...</td>\n",
              "      <td>...</td>\n",
              "      <td>...</td>\n",
              "      <td>...</td>\n",
              "      <td>...</td>\n",
              "      <td>...</td>\n",
              "      <td>...</td>\n",
              "      <td>...</td>\n",
              "    </tr>\n",
              "    <tr>\n",
              "      <th>763</th>\n",
              "      <td>10</td>\n",
              "      <td>101</td>\n",
              "      <td>76</td>\n",
              "      <td>48</td>\n",
              "      <td>180</td>\n",
              "      <td>32.9</td>\n",
              "      <td>0.171</td>\n",
              "      <td>63</td>\n",
              "      <td>0</td>\n",
              "    </tr>\n",
              "    <tr>\n",
              "      <th>764</th>\n",
              "      <td>2</td>\n",
              "      <td>122</td>\n",
              "      <td>70</td>\n",
              "      <td>27</td>\n",
              "      <td>0</td>\n",
              "      <td>36.8</td>\n",
              "      <td>0.340</td>\n",
              "      <td>27</td>\n",
              "      <td>0</td>\n",
              "    </tr>\n",
              "    <tr>\n",
              "      <th>765</th>\n",
              "      <td>5</td>\n",
              "      <td>121</td>\n",
              "      <td>72</td>\n",
              "      <td>23</td>\n",
              "      <td>112</td>\n",
              "      <td>26.2</td>\n",
              "      <td>0.245</td>\n",
              "      <td>30</td>\n",
              "      <td>0</td>\n",
              "    </tr>\n",
              "    <tr>\n",
              "      <th>766</th>\n",
              "      <td>1</td>\n",
              "      <td>126</td>\n",
              "      <td>60</td>\n",
              "      <td>0</td>\n",
              "      <td>0</td>\n",
              "      <td>30.1</td>\n",
              "      <td>0.349</td>\n",
              "      <td>47</td>\n",
              "      <td>1</td>\n",
              "    </tr>\n",
              "    <tr>\n",
              "      <th>767</th>\n",
              "      <td>1</td>\n",
              "      <td>93</td>\n",
              "      <td>70</td>\n",
              "      <td>31</td>\n",
              "      <td>0</td>\n",
              "      <td>30.4</td>\n",
              "      <td>0.315</td>\n",
              "      <td>23</td>\n",
              "      <td>0</td>\n",
              "    </tr>\n",
              "  </tbody>\n",
              "</table>\n",
              "<p>768 rows × 9 columns</p>\n",
              "</div>"
            ],
            "text/plain": [
              "     Pregnancies  Glucose  ...  Age  Outcome\n",
              "0              6      148  ...   50        1\n",
              "1              1       85  ...   31        0\n",
              "2              8      183  ...   32        1\n",
              "3              1       89  ...   21        0\n",
              "4              0      137  ...   33        1\n",
              "..           ...      ...  ...  ...      ...\n",
              "763           10      101  ...   63        0\n",
              "764            2      122  ...   27        0\n",
              "765            5      121  ...   30        0\n",
              "766            1      126  ...   47        1\n",
              "767            1       93  ...   23        0\n",
              "\n",
              "[768 rows x 9 columns]"
            ]
          },
          "metadata": {},
          "execution_count": 348
        }
      ]
    },
    {
      "cell_type": "code",
      "metadata": {
        "id": "IsNj5mgddMZb"
      },
      "source": [
        "x= data.drop('Outcome',axis=1)\n",
        "y= data.Outcome"
      ],
      "execution_count": 349,
      "outputs": []
    },
    {
      "cell_type": "code",
      "metadata": {
        "id": "5vGVJVxRLs8V"
      },
      "source": [
        "from sklearn.model_selection import train_test_split\n"
      ],
      "execution_count": 350,
      "outputs": []
    },
    {
      "cell_type": "code",
      "metadata": {
        "id": "xeVt3lQsL5od"
      },
      "source": [
        "train_data,test_data,train_label,test_label= train_test_split(x,y, test_size=0.15,stratify=y)"
      ],
      "execution_count": 351,
      "outputs": []
    },
    {
      "cell_type": "code",
      "metadata": {
        "id": "fC_wLT1YMaSp"
      },
      "source": [
        "from sklearn import preprocessing\n",
        "test_data=preprocessing.normalize(test_data)\n",
        "train_data=preprocessing.normalize(train_data)"
      ],
      "execution_count": 352,
      "outputs": []
    },
    {
      "cell_type": "code",
      "metadata": {
        "id": "YTGrc_QqM26-"
      },
      "source": [
        "from tensorflow.keras import models"
      ],
      "execution_count": 353,
      "outputs": []
    },
    {
      "cell_type": "code",
      "metadata": {
        "id": "Xi6RrfOVM9im"
      },
      "source": [
        "from tensorflow.keras.layers import *"
      ],
      "execution_count": 354,
      "outputs": []
    },
    {
      "cell_type": "code",
      "metadata": {
        "id": "tDXRGtjaNFpb"
      },
      "source": [
        "model= models.Sequential()"
      ],
      "execution_count": 355,
      "outputs": []
    },
    {
      "cell_type": "code",
      "metadata": {
        "id": "W3YUpMBeNL2-"
      },
      "source": [
        "model.add(Dense(1520, activation='relu',input_shape=(8,)))\n",
        "model.add(Dense(38, activation='tanh'))\n",
        "model.add(Dense(1, activation='sigmoid'))"
      ],
      "execution_count": 356,
      "outputs": []
    },
    {
      "cell_type": "code",
      "metadata": {
        "id": "k1mzouUUmI4y"
      },
      "source": [
        "import tensorflow\n",
        "opt= tensorflow.keras.optimizers.Adam(learning_rate=0.004)"
      ],
      "execution_count": 357,
      "outputs": []
    },
    {
      "cell_type": "code",
      "metadata": {
        "id": "ssL2ngfTNj7B"
      },
      "source": [
        "model.compile(optimizer=opt,loss='mse',metrics=['acc'])"
      ],
      "execution_count": 358,
      "outputs": []
    },
    {
      "cell_type": "code",
      "metadata": {
        "colab": {
          "base_uri": "https://localhost:8080/"
        },
        "id": "WxeGvHHtip6z",
        "outputId": "682905a5-bc2b-4116-f22f-564ff9feeaf9"
      },
      "source": [
        "model.fit(train_data,train_label,epochs=100)"
      ],
      "execution_count": 359,
      "outputs": [
        {
          "output_type": "stream",
          "name": "stdout",
          "text": [
            "Epoch 1/100\n",
            "21/21 [==============================] - 1s 3ms/step - loss: 0.2295 - acc: 0.6457\n",
            "Epoch 2/100\n",
            "21/21 [==============================] - 0s 4ms/step - loss: 0.2139 - acc: 0.6626\n",
            "Epoch 3/100\n",
            "21/21 [==============================] - 0s 4ms/step - loss: 0.2159 - acc: 0.6503\n",
            "Epoch 4/100\n",
            "21/21 [==============================] - 0s 4ms/step - loss: 0.2121 - acc: 0.6518\n",
            "Epoch 5/100\n",
            "21/21 [==============================] - 0s 3ms/step - loss: 0.2070 - acc: 0.6718\n",
            "Epoch 6/100\n",
            "21/21 [==============================] - 0s 4ms/step - loss: 0.2034 - acc: 0.6810\n",
            "Epoch 7/100\n",
            "21/21 [==============================] - 0s 4ms/step - loss: 0.2011 - acc: 0.6856\n",
            "Epoch 8/100\n",
            "21/21 [==============================] - 0s 4ms/step - loss: 0.2070 - acc: 0.6779\n",
            "Epoch 9/100\n",
            "21/21 [==============================] - 0s 4ms/step - loss: 0.2049 - acc: 0.6764\n",
            "Epoch 10/100\n",
            "21/21 [==============================] - 0s 4ms/step - loss: 0.2005 - acc: 0.6917\n",
            "Epoch 11/100\n",
            "21/21 [==============================] - 0s 4ms/step - loss: 0.1996 - acc: 0.6887\n",
            "Epoch 12/100\n",
            "21/21 [==============================] - 0s 4ms/step - loss: 0.1940 - acc: 0.6948\n",
            "Epoch 13/100\n",
            "21/21 [==============================] - 0s 4ms/step - loss: 0.2097 - acc: 0.6718\n",
            "Epoch 14/100\n",
            "21/21 [==============================] - 0s 4ms/step - loss: 0.2006 - acc: 0.6994\n",
            "Epoch 15/100\n",
            "21/21 [==============================] - 0s 4ms/step - loss: 0.1983 - acc: 0.6887\n",
            "Epoch 16/100\n",
            "21/21 [==============================] - 0s 4ms/step - loss: 0.1903 - acc: 0.7101\n",
            "Epoch 17/100\n",
            "21/21 [==============================] - 0s 4ms/step - loss: 0.1937 - acc: 0.6917\n",
            "Epoch 18/100\n",
            "21/21 [==============================] - 0s 4ms/step - loss: 0.1912 - acc: 0.7132\n",
            "Epoch 19/100\n",
            "21/21 [==============================] - 0s 4ms/step - loss: 0.1931 - acc: 0.7071\n",
            "Epoch 20/100\n",
            "21/21 [==============================] - 0s 4ms/step - loss: 0.1907 - acc: 0.7071\n",
            "Epoch 21/100\n",
            "21/21 [==============================] - 0s 4ms/step - loss: 0.1908 - acc: 0.7163\n",
            "Epoch 22/100\n",
            "21/21 [==============================] - 0s 4ms/step - loss: 0.1899 - acc: 0.7147\n",
            "Epoch 23/100\n",
            "21/21 [==============================] - 0s 4ms/step - loss: 0.1931 - acc: 0.7178\n",
            "Epoch 24/100\n",
            "21/21 [==============================] - 0s 4ms/step - loss: 0.1963 - acc: 0.6979\n",
            "Epoch 25/100\n",
            "21/21 [==============================] - 0s 4ms/step - loss: 0.1853 - acc: 0.7316\n",
            "Epoch 26/100\n",
            "21/21 [==============================] - 0s 4ms/step - loss: 0.1910 - acc: 0.7117\n",
            "Epoch 27/100\n",
            "21/21 [==============================] - 0s 4ms/step - loss: 0.1881 - acc: 0.7055\n",
            "Epoch 28/100\n",
            "21/21 [==============================] - 0s 4ms/step - loss: 0.1899 - acc: 0.6979\n",
            "Epoch 29/100\n",
            "21/21 [==============================] - 0s 5ms/step - loss: 0.1858 - acc: 0.7331\n",
            "Epoch 30/100\n",
            "21/21 [==============================] - 0s 4ms/step - loss: 0.1842 - acc: 0.7255\n",
            "Epoch 31/100\n",
            "21/21 [==============================] - 0s 4ms/step - loss: 0.1823 - acc: 0.7209\n",
            "Epoch 32/100\n",
            "21/21 [==============================] - 0s 5ms/step - loss: 0.1908 - acc: 0.7071\n",
            "Epoch 33/100\n",
            "21/21 [==============================] - 0s 4ms/step - loss: 0.1835 - acc: 0.7224\n",
            "Epoch 34/100\n",
            "21/21 [==============================] - 0s 4ms/step - loss: 0.1847 - acc: 0.7285\n",
            "Epoch 35/100\n",
            "21/21 [==============================] - 0s 4ms/step - loss: 0.1890 - acc: 0.7362\n",
            "Epoch 36/100\n",
            "21/21 [==============================] - 0s 4ms/step - loss: 0.1833 - acc: 0.7255\n",
            "Epoch 37/100\n",
            "21/21 [==============================] - 0s 4ms/step - loss: 0.1895 - acc: 0.7009\n",
            "Epoch 38/100\n",
            "21/21 [==============================] - 0s 4ms/step - loss: 0.1841 - acc: 0.7193\n",
            "Epoch 39/100\n",
            "21/21 [==============================] - 0s 5ms/step - loss: 0.1804 - acc: 0.7255\n",
            "Epoch 40/100\n",
            "21/21 [==============================] - 0s 4ms/step - loss: 0.1823 - acc: 0.7209\n",
            "Epoch 41/100\n",
            "21/21 [==============================] - 0s 4ms/step - loss: 0.1799 - acc: 0.7285\n",
            "Epoch 42/100\n",
            "21/21 [==============================] - 0s 4ms/step - loss: 0.1807 - acc: 0.7362\n",
            "Epoch 43/100\n",
            "21/21 [==============================] - 0s 4ms/step - loss: 0.1805 - acc: 0.7331\n",
            "Epoch 44/100\n",
            "21/21 [==============================] - 0s 4ms/step - loss: 0.1798 - acc: 0.7316\n",
            "Epoch 45/100\n",
            "21/21 [==============================] - 0s 4ms/step - loss: 0.1825 - acc: 0.7178\n",
            "Epoch 46/100\n",
            "21/21 [==============================] - 0s 4ms/step - loss: 0.1871 - acc: 0.7209\n",
            "Epoch 47/100\n",
            "21/21 [==============================] - 0s 3ms/step - loss: 0.1816 - acc: 0.7239\n",
            "Epoch 48/100\n",
            "21/21 [==============================] - 0s 4ms/step - loss: 0.1857 - acc: 0.7163\n",
            "Epoch 49/100\n",
            "21/21 [==============================] - 0s 4ms/step - loss: 0.1814 - acc: 0.7193\n",
            "Epoch 50/100\n",
            "21/21 [==============================] - 0s 4ms/step - loss: 0.1809 - acc: 0.7347\n",
            "Epoch 51/100\n",
            "21/21 [==============================] - 0s 4ms/step - loss: 0.1864 - acc: 0.7224\n",
            "Epoch 52/100\n",
            "21/21 [==============================] - 0s 4ms/step - loss: 0.1793 - acc: 0.7439\n",
            "Epoch 53/100\n",
            "21/21 [==============================] - 0s 4ms/step - loss: 0.1785 - acc: 0.7347\n",
            "Epoch 54/100\n",
            "21/21 [==============================] - 0s 5ms/step - loss: 0.1755 - acc: 0.7362\n",
            "Epoch 55/100\n",
            "21/21 [==============================] - 0s 4ms/step - loss: 0.1796 - acc: 0.7439\n",
            "Epoch 56/100\n",
            "21/21 [==============================] - 0s 4ms/step - loss: 0.1821 - acc: 0.7347\n",
            "Epoch 57/100\n",
            "21/21 [==============================] - 0s 4ms/step - loss: 0.1777 - acc: 0.7423\n",
            "Epoch 58/100\n",
            "21/21 [==============================] - 0s 4ms/step - loss: 0.1784 - acc: 0.7362\n",
            "Epoch 59/100\n",
            "21/21 [==============================] - 0s 4ms/step - loss: 0.1792 - acc: 0.7193\n",
            "Epoch 60/100\n",
            "21/21 [==============================] - 0s 4ms/step - loss: 0.1766 - acc: 0.7500\n",
            "Epoch 61/100\n",
            "21/21 [==============================] - 0s 4ms/step - loss: 0.1809 - acc: 0.7331\n",
            "Epoch 62/100\n",
            "21/21 [==============================] - 0s 4ms/step - loss: 0.1776 - acc: 0.7439\n",
            "Epoch 63/100\n",
            "21/21 [==============================] - 0s 4ms/step - loss: 0.1794 - acc: 0.7285\n",
            "Epoch 64/100\n",
            "21/21 [==============================] - 0s 4ms/step - loss: 0.1788 - acc: 0.7331\n",
            "Epoch 65/100\n",
            "21/21 [==============================] - 0s 4ms/step - loss: 0.1764 - acc: 0.7439\n",
            "Epoch 66/100\n",
            "21/21 [==============================] - 0s 4ms/step - loss: 0.1801 - acc: 0.7362\n",
            "Epoch 67/100\n",
            "21/21 [==============================] - 0s 4ms/step - loss: 0.1791 - acc: 0.7439\n",
            "Epoch 68/100\n",
            "21/21 [==============================] - 0s 4ms/step - loss: 0.1757 - acc: 0.7454\n",
            "Epoch 69/100\n",
            "21/21 [==============================] - 0s 4ms/step - loss: 0.1816 - acc: 0.7224\n",
            "Epoch 70/100\n",
            "21/21 [==============================] - 0s 4ms/step - loss: 0.1762 - acc: 0.7377\n",
            "Epoch 71/100\n",
            "21/21 [==============================] - 0s 4ms/step - loss: 0.1811 - acc: 0.7377\n",
            "Epoch 72/100\n",
            "21/21 [==============================] - 0s 4ms/step - loss: 0.1808 - acc: 0.7163\n",
            "Epoch 73/100\n",
            "21/21 [==============================] - 0s 4ms/step - loss: 0.1811 - acc: 0.7331\n",
            "Epoch 74/100\n",
            "21/21 [==============================] - 0s 4ms/step - loss: 0.1778 - acc: 0.7439\n",
            "Epoch 75/100\n",
            "21/21 [==============================] - 0s 4ms/step - loss: 0.1761 - acc: 0.7393\n",
            "Epoch 76/100\n",
            "21/21 [==============================] - 0s 4ms/step - loss: 0.1787 - acc: 0.7423\n",
            "Epoch 77/100\n",
            "21/21 [==============================] - 0s 4ms/step - loss: 0.1954 - acc: 0.7101\n",
            "Epoch 78/100\n",
            "21/21 [==============================] - 0s 4ms/step - loss: 0.1750 - acc: 0.7347\n",
            "Epoch 79/100\n",
            "21/21 [==============================] - 0s 4ms/step - loss: 0.1732 - acc: 0.7531\n",
            "Epoch 80/100\n",
            "21/21 [==============================] - 0s 4ms/step - loss: 0.1839 - acc: 0.7239\n",
            "Epoch 81/100\n",
            "21/21 [==============================] - 0s 4ms/step - loss: 0.1773 - acc: 0.7362\n",
            "Epoch 82/100\n",
            "21/21 [==============================] - 0s 4ms/step - loss: 0.1763 - acc: 0.7439\n",
            "Epoch 83/100\n",
            "21/21 [==============================] - 0s 4ms/step - loss: 0.1737 - acc: 0.7316\n",
            "Epoch 84/100\n",
            "21/21 [==============================] - 0s 4ms/step - loss: 0.1739 - acc: 0.7607\n",
            "Epoch 85/100\n",
            "21/21 [==============================] - 0s 4ms/step - loss: 0.1742 - acc: 0.7331\n",
            "Epoch 86/100\n",
            "21/21 [==============================] - 0s 5ms/step - loss: 0.1738 - acc: 0.7408\n",
            "Epoch 87/100\n",
            "21/21 [==============================] - 0s 4ms/step - loss: 0.1747 - acc: 0.7408\n",
            "Epoch 88/100\n",
            "21/21 [==============================] - 0s 4ms/step - loss: 0.1779 - acc: 0.7377\n",
            "Epoch 89/100\n",
            "21/21 [==============================] - 0s 4ms/step - loss: 0.1773 - acc: 0.7331\n",
            "Epoch 90/100\n",
            "21/21 [==============================] - 0s 4ms/step - loss: 0.1740 - acc: 0.7362\n",
            "Epoch 91/100\n",
            "21/21 [==============================] - 0s 4ms/step - loss: 0.1747 - acc: 0.7270\n",
            "Epoch 92/100\n",
            "21/21 [==============================] - 0s 4ms/step - loss: 0.1715 - acc: 0.7408\n",
            "Epoch 93/100\n",
            "21/21 [==============================] - 0s 3ms/step - loss: 0.1760 - acc: 0.7377\n",
            "Epoch 94/100\n",
            "21/21 [==============================] - 0s 4ms/step - loss: 0.1729 - acc: 0.7469\n",
            "Epoch 95/100\n",
            "21/21 [==============================] - 0s 4ms/step - loss: 0.1748 - acc: 0.7423\n",
            "Epoch 96/100\n",
            "21/21 [==============================] - 0s 4ms/step - loss: 0.1744 - acc: 0.7362\n",
            "Epoch 97/100\n",
            "21/21 [==============================] - 0s 4ms/step - loss: 0.1767 - acc: 0.7193\n",
            "Epoch 98/100\n",
            "21/21 [==============================] - 0s 4ms/step - loss: 0.1723 - acc: 0.7546\n",
            "Epoch 99/100\n",
            "21/21 [==============================] - 0s 4ms/step - loss: 0.1708 - acc: 0.7408\n",
            "Epoch 100/100\n",
            "21/21 [==============================] - 0s 4ms/step - loss: 0.1723 - acc: 0.7515\n"
          ]
        },
        {
          "output_type": "execute_result",
          "data": {
            "text/plain": [
              "<keras.callbacks.History at 0x7f745be35e50>"
            ]
          },
          "metadata": {},
          "execution_count": 359
        }
      ]
    },
    {
      "cell_type": "code",
      "metadata": {
        "colab": {
          "base_uri": "https://localhost:8080/"
        },
        "id": "SbLMOAYqjMr8",
        "outputId": "87109c5f-784f-42ee-bc70-15684834a2dd"
      },
      "source": [
        "model.evaluate(test_data,test_label)"
      ],
      "execution_count": 360,
      "outputs": [
        {
          "output_type": "stream",
          "name": "stdout",
          "text": [
            "4/4 [==============================] - 0s 4ms/step - loss: 0.1986 - acc: 0.7155\n"
          ]
        },
        {
          "output_type": "execute_result",
          "data": {
            "text/plain": [
              "[0.19855055212974548, 0.7155172228813171]"
            ]
          },
          "metadata": {},
          "execution_count": 360
        }
      ]
    },
    {
      "cell_type": "code",
      "metadata": {
        "id": "1bH0sTlZl6NY"
      },
      "source": [
        ""
      ],
      "execution_count": 360,
      "outputs": []
    }
  ]
}