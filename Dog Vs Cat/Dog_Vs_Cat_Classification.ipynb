{
  "nbformat": 4,
  "nbformat_minor": 0,
  "metadata": {
    "colab": {
      "name": "Dog_Vs_Cat Classification.ipynb",
      "provenance": []
    },
    "kernelspec": {
      "name": "python3",
      "display_name": "Python 3"
    },
    "language_info": {
      "name": "python"
    },
    "accelerator": "GPU"
  },
  "cells": [
    {
      "cell_type": "code",
      "metadata": {
        "colab": {
          "base_uri": "https://localhost:8080/"
        },
        "id": "y6spyE2wiFtm",
        "outputId": "e1be02c9-c6ff-4463-bf1d-202bdb8354bc"
      },
      "source": [
        "from google.colab import drive\n",
        "drive.mount('/content/drive')"
      ],
      "execution_count": null,
      "outputs": [
        {
          "output_type": "stream",
          "name": "stdout",
          "text": [
            "Drive already mounted at /content/drive; to attempt to forcibly remount, call drive.mount(\"/content/drive\", force_remount=True).\n"
          ]
        }
      ]
    },
    {
      "cell_type": "code",
      "metadata": {
        "id": "u6cPpLzvld3z"
      },
      "source": [
        "from keras import layers\n",
        "from keras import models\n",
        "model = models.Sequential()\n",
        "model.add(layers.Conv2D(32, (3, 3), activation='relu',\n",
        "input_shape=(150, 150, 3)))\n",
        "model.add(layers.MaxPooling2D((2, 2)))\n",
        "model.add(layers.Conv2D(64, (3, 3), activation='relu'))\n",
        "model.add(layers.MaxPooling2D((2, 2)))\n",
        "model.add(layers.Conv2D(128, (3, 3), activation='relu'))\n",
        "model.add(layers.MaxPooling2D((2, 2)))\n",
        "model.add(layers.Conv2D(128, (3, 3), activation='relu'))\n",
        "model.add(layers.MaxPooling2D((2, 2)))\n",
        "model.add(layers.Flatten())\n",
        "model.add(layers.Dense(512, activation='relu'))\n",
        "model.add(layers.Dense(1, activation='sigmoid'))"
      ],
      "execution_count": null,
      "outputs": []
    },
    {
      "cell_type": "code",
      "metadata": {
        "id": "ltVeBGeSlowq"
      },
      "source": [
        "from keras import optimizers\n",
        "model.compile(loss='binary_crossentropy',\n",
        "optimizer='rmsprop',\n",
        "metrics=['acc'])"
      ],
      "execution_count": null,
      "outputs": []
    },
    {
      "cell_type": "code",
      "metadata": {
        "id": "VAqn4dayluIk"
      },
      "source": [
        "train_dir='/content/drive/MyDrive/data set do vs cat/train'\n",
        "test_dir='/content/drive/MyDrive/data set do vs cat/test'\n",
        "validation_dir='/content/drive/MyDrive/data set do vs cat/validation'"
      ],
      "execution_count": null,
      "outputs": []
    },
    {
      "cell_type": "code",
      "metadata": {
        "id": "7U98KscUl089"
      },
      "source": [
        "from keras.preprocessing.image import ImageDataGenerator"
      ],
      "execution_count": null,
      "outputs": []
    },
    {
      "cell_type": "code",
      "metadata": {
        "id": "uxdzdX_il5zz"
      },
      "source": [
        "train_datagen = ImageDataGenerator(rescale=1./255)\n",
        "test_datagen = ImageDataGenerator(rescale=1./255)\n",
        "validation_datagen =ImageDataGenerator(rescale=1./255)"
      ],
      "execution_count": null,
      "outputs": []
    },
    {
      "cell_type": "code",
      "metadata": {
        "colab": {
          "base_uri": "https://localhost:8080/"
        },
        "id": "w1g8F4ZSl9lD",
        "outputId": "6c61e5ef-a02f-4af9-d81d-b9d0176c09be"
      },
      "source": [
        "train_generator = train_datagen.flow_from_directory(\n",
        "train_dir,\n",
        "target_size=(150, 150),\n",
        "batch_size=20,\n",
        "class_mode='binary')"
      ],
      "execution_count": null,
      "outputs": [
        {
          "output_type": "stream",
          "name": "stdout",
          "text": [
            "Found 4023 images belonging to 2 classes.\n"
          ]
        }
      ]
    },
    {
      "cell_type": "code",
      "metadata": {
        "colab": {
          "base_uri": "https://localhost:8080/"
        },
        "id": "ucry6VtUmAa6",
        "outputId": "b3cbbb6d-df4c-452b-a3a1-cf64bd16401f"
      },
      "source": [
        "test_generator = test_datagen.flow_from_directory(test_dir,\n",
        "target_size=(150, 150),\n",
        "batch_size=20,\n",
        "class_mode='binary')"
      ],
      "execution_count": null,
      "outputs": [
        {
          "output_type": "stream",
          "name": "stdout",
          "text": [
            "Found 200 images belonging to 2 classes.\n"
          ]
        }
      ]
    },
    {
      "cell_type": "code",
      "metadata": {
        "colab": {
          "base_uri": "https://localhost:8080/"
        },
        "id": "QqbFV4lFmGtu",
        "outputId": "5f4a8d64-06a3-44dd-fce0-4e5b638a2fff"
      },
      "source": [
        "validation_generator = validation_datagen.flow_from_directory(\n",
        "  validation_dir,\n",
        "  target_size=(150,150),\n",
        "  batch_size=20,\n",
        "  class_mode='binary')"
      ],
      "execution_count": null,
      "outputs": [
        {
          "output_type": "stream",
          "name": "stdout",
          "text": [
            "Found 400 images belonging to 2 classes.\n"
          ]
        }
      ]
    },
    {
      "cell_type": "code",
      "metadata": {
        "colab": {
          "base_uri": "https://localhost:8080/"
        },
        "id": "XoNZHgyAmKNf",
        "outputId": "2320b283-8e77-425e-afca-21c82b00ed52"
      },
      "source": [
        "history = model.fit_generator(\n",
        "train_generator,\n",
        "steps_per_epoch=18,\n",
        "epochs=20,\n",
        "validation_data=validation_generator,\n",
        "validation_steps=3)"
      ],
      "execution_count": null,
      "outputs": [
        {
          "output_type": "stream",
          "name": "stderr",
          "text": [
            "/usr/local/lib/python3.7/dist-packages/keras/engine/training.py:1972: UserWarning: `Model.fit_generator` is deprecated and will be removed in a future version. Please use `Model.fit`, which supports generators.\n",
            "  warnings.warn('`Model.fit_generator` is deprecated and '\n"
          ]
        },
        {
          "output_type": "stream",
          "name": "stdout",
          "text": [
            "Epoch 1/20\n",
            "18/18 [==============================] - 10s 457ms/step - loss: 0.7635 - acc: 0.5417 - val_loss: 0.6915 - val_acc: 0.5000\n",
            "Epoch 2/20\n",
            "18/18 [==============================] - 8s 461ms/step - loss: 0.6933 - acc: 0.4972 - val_loss: 0.6912 - val_acc: 0.5167\n",
            "Epoch 3/20\n",
            "18/18 [==============================] - 8s 437ms/step - loss: 0.6947 - acc: 0.5222 - val_loss: 0.6884 - val_acc: 0.5000\n",
            "Epoch 4/20\n",
            "18/18 [==============================] - 8s 428ms/step - loss: 0.7078 - acc: 0.4806 - val_loss: 0.6987 - val_acc: 0.3833\n",
            "Epoch 5/20\n",
            "18/18 [==============================] - 6s 365ms/step - loss: 0.6986 - acc: 0.5528 - val_loss: 0.6963 - val_acc: 0.4833\n",
            "Epoch 6/20\n",
            "18/18 [==============================] - 8s 475ms/step - loss: 0.6986 - acc: 0.5139 - val_loss: 0.7031 - val_acc: 0.4333\n",
            "Epoch 7/20\n",
            "18/18 [==============================] - 7s 378ms/step - loss: 0.7062 - acc: 0.5444 - val_loss: 0.7027 - val_acc: 0.5500\n",
            "Epoch 8/20\n",
            "18/18 [==============================] - 5s 274ms/step - loss: 0.7016 - acc: 0.5806 - val_loss: 0.7108 - val_acc: 0.6000\n",
            "Epoch 9/20\n",
            "18/18 [==============================] - 6s 306ms/step - loss: 0.6802 - acc: 0.5778 - val_loss: 0.6512 - val_acc: 0.6833\n",
            "Epoch 10/20\n",
            "18/18 [==============================] - 5s 269ms/step - loss: 0.6613 - acc: 0.5944 - val_loss: 0.6928 - val_acc: 0.4833\n",
            "Epoch 11/20\n",
            "18/18 [==============================] - 5s 233ms/step - loss: 0.6716 - acc: 0.5500 - val_loss: 0.6231 - val_acc: 0.6167\n",
            "Epoch 12/20\n",
            "18/18 [==============================] - 4s 234ms/step - loss: 0.6494 - acc: 0.6333 - val_loss: 0.6930 - val_acc: 0.6333\n",
            "Epoch 13/20\n",
            "18/18 [==============================] - 5s 293ms/step - loss: 0.6719 - acc: 0.6333 - val_loss: 0.6879 - val_acc: 0.6333\n",
            "Epoch 14/20\n",
            "18/18 [==============================] - 5s 264ms/step - loss: 0.6710 - acc: 0.6122 - val_loss: 0.7497 - val_acc: 0.6000\n",
            "Epoch 15/20\n",
            "18/18 [==============================] - 4s 201ms/step - loss: 0.6405 - acc: 0.6361 - val_loss: 0.6959 - val_acc: 0.5333\n",
            "Epoch 16/20\n",
            "18/18 [==============================] - 4s 222ms/step - loss: 0.6420 - acc: 0.6444 - val_loss: 0.6650 - val_acc: 0.5833\n",
            "Epoch 17/20\n",
            "18/18 [==============================] - 5s 264ms/step - loss: 0.7220 - acc: 0.5889 - val_loss: 0.6361 - val_acc: 0.7167\n",
            "Epoch 18/20\n",
            "18/18 [==============================] - 4s 219ms/step - loss: 0.6256 - acc: 0.6944 - val_loss: 0.5686 - val_acc: 0.7167\n",
            "Epoch 19/20\n",
            "18/18 [==============================] - 3s 163ms/step - loss: 0.6034 - acc: 0.6583 - val_loss: 0.5389 - val_acc: 0.7000\n",
            "Epoch 20/20\n",
            "18/18 [==============================] - 3s 177ms/step - loss: 0.6246 - acc: 0.6472 - val_loss: 0.6865 - val_acc: 0.6667\n"
          ]
        }
      ]
    },
    {
      "cell_type": "code",
      "metadata": {
        "colab": {
          "base_uri": "https://localhost:8080/"
        },
        "id": "zE_ldZ2smOX2",
        "outputId": "5b5ce215-8c63-472d-c9c6-15f2232e8c4a"
      },
      "source": [
        "model.evaluate(test_generator)"
      ],
      "execution_count": null,
      "outputs": [
        {
          "output_type": "stream",
          "name": "stdout",
          "text": [
            "10/10 [==============================] - 1s 93ms/step - loss: 0.6144 - acc: 0.6650\n"
          ]
        },
        {
          "output_type": "execute_result",
          "data": {
            "text/plain": [
              "[0.6143597960472107, 0.6650000214576721]"
            ]
          },
          "metadata": {},
          "execution_count": 22
        }
      ]
    },
    {
      "cell_type": "code",
      "metadata": {
        "id": "Oui5T_2_qfRo"
      },
      "source": [
        ""
      ],
      "execution_count": null,
      "outputs": []
    }
  ]
}