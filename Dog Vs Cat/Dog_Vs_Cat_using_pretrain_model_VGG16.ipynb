{
  "nbformat": 4,
  "nbformat_minor": 0,
  "metadata": {
    "colab": {
      "name": "Dog Vs Cat_using_pretrain_model_VGG16.ipynb",
      "provenance": [],
      "collapsed_sections": []
    },
    "kernelspec": {
      "name": "python3",
      "display_name": "Python 3"
    },
    "language_info": {
      "name": "python"
    },
    "accelerator": "GPU"
  },
  "cells": [
    {
      "cell_type": "code",
      "metadata": {
        "id": "oSeWaPLQ2blW"
      },
      "source": [
        "import tensorflow\n",
        "from tensorflow.keras.applications import VGG16\n",
        "conv_base = VGG16(weights='imagenet',\n",
        "include_top=False,\n",
        "input_shape=(150, 150, 3))"
      ],
      "execution_count": null,
      "outputs": []
    },
    {
      "cell_type": "code",
      "metadata": {
        "colab": {
          "base_uri": "https://localhost:8080/"
        },
        "id": "DxV2xI3u3oGJ",
        "outputId": "e01c83f8-1ffc-4c6b-f094-3e0a8b8e2876"
      },
      "source": [
        "conv_base.summary()"
      ],
      "execution_count": null,
      "outputs": [
        {
          "output_type": "stream",
          "name": "stdout",
          "text": [
            "Model: \"vgg16\"\n",
            "_________________________________________________________________\n",
            "Layer (type)                 Output Shape              Param #   \n",
            "=================================================================\n",
            "input_3 (InputLayer)         [(None, 150, 150, 3)]     0         \n",
            "_________________________________________________________________\n",
            "block1_conv1 (Conv2D)        (None, 150, 150, 64)      1792      \n",
            "_________________________________________________________________\n",
            "block1_conv2 (Conv2D)        (None, 150, 150, 64)      36928     \n",
            "_________________________________________________________________\n",
            "block1_pool (MaxPooling2D)   (None, 75, 75, 64)        0         \n",
            "_________________________________________________________________\n",
            "block2_conv1 (Conv2D)        (None, 75, 75, 128)       73856     \n",
            "_________________________________________________________________\n",
            "block2_conv2 (Conv2D)        (None, 75, 75, 128)       147584    \n",
            "_________________________________________________________________\n",
            "block2_pool (MaxPooling2D)   (None, 37, 37, 128)       0         \n",
            "_________________________________________________________________\n",
            "block3_conv1 (Conv2D)        (None, 37, 37, 256)       295168    \n",
            "_________________________________________________________________\n",
            "block3_conv2 (Conv2D)        (None, 37, 37, 256)       590080    \n",
            "_________________________________________________________________\n",
            "block3_conv3 (Conv2D)        (None, 37, 37, 256)       590080    \n",
            "_________________________________________________________________\n",
            "block3_pool (MaxPooling2D)   (None, 18, 18, 256)       0         \n",
            "_________________________________________________________________\n",
            "block4_conv1 (Conv2D)        (None, 18, 18, 512)       1180160   \n",
            "_________________________________________________________________\n",
            "block4_conv2 (Conv2D)        (None, 18, 18, 512)       2359808   \n",
            "_________________________________________________________________\n",
            "block4_conv3 (Conv2D)        (None, 18, 18, 512)       2359808   \n",
            "_________________________________________________________________\n",
            "block4_pool (MaxPooling2D)   (None, 9, 9, 512)         0         \n",
            "_________________________________________________________________\n",
            "block5_conv1 (Conv2D)        (None, 9, 9, 512)         2359808   \n",
            "_________________________________________________________________\n",
            "block5_conv2 (Conv2D)        (None, 9, 9, 512)         2359808   \n",
            "_________________________________________________________________\n",
            "block5_conv3 (Conv2D)        (None, 9, 9, 512)         2359808   \n",
            "_________________________________________________________________\n",
            "block5_pool (MaxPooling2D)   (None, 4, 4, 512)         0         \n",
            "=================================================================\n",
            "Total params: 14,714,688\n",
            "Trainable params: 14,714,688\n",
            "Non-trainable params: 0\n",
            "_________________________________________________________________\n"
          ]
        }
      ]
    },
    {
      "cell_type": "code",
      "metadata": {
        "colab": {
          "base_uri": "https://localhost:8080/"
        },
        "id": "Xoi2cQ7S2nFC",
        "outputId": "508ed54a-bd1e-4e16-aaec-3a384f6bc7aa"
      },
      "source": [
        "from google.colab import drive\n",
        "drive.mount('/content/drive')"
      ],
      "execution_count": null,
      "outputs": [
        {
          "output_type": "stream",
          "name": "stdout",
          "text": [
            "Drive already mounted at /content/drive; to attempt to forcibly remount, call drive.mount(\"/content/drive\", force_remount=True).\n"
          ]
        }
      ]
    },
    {
      "cell_type": "code",
      "metadata": {
        "id": "BlaGW80qLng6"
      },
      "source": [
        "from tensorflow.keras import layers\n",
        "\n",
        "from tensorflow.keras import models\n",
        "model = models.Sequential()\n",
        "model.add(conv_base)\n",
        "model.add(layers.Flatten())\n",
        "model.add(layers.Dense(256, activation='relu'))\n",
        "model.add(layers.Dense(1, activation='sigmoid'))\n"
      ],
      "execution_count": null,
      "outputs": []
    },
    {
      "cell_type": "code",
      "metadata": {
        "colab": {
          "base_uri": "https://localhost:8080/"
        },
        "id": "hQTUikEsLtJP",
        "outputId": "bdd4f271-59e7-4460-e9d2-615a65ad3e03"
      },
      "source": [
        "model.summary()"
      ],
      "execution_count": null,
      "outputs": [
        {
          "output_type": "stream",
          "name": "stdout",
          "text": [
            "Model: \"sequential_2\"\n",
            "_________________________________________________________________\n",
            "Layer (type)                 Output Shape              Param #   \n",
            "=================================================================\n",
            "vgg16 (Functional)           (None, 4, 4, 512)         14714688  \n",
            "_________________________________________________________________\n",
            "flatten_2 (Flatten)          (None, 8192)              0         \n",
            "_________________________________________________________________\n",
            "dense_4 (Dense)              (None, 256)               2097408   \n",
            "_________________________________________________________________\n",
            "dense_5 (Dense)              (None, 1)                 257       \n",
            "=================================================================\n",
            "Total params: 16,812,353\n",
            "Trainable params: 16,812,353\n",
            "Non-trainable params: 0\n",
            "_________________________________________________________________\n"
          ]
        }
      ]
    },
    {
      "cell_type": "code",
      "metadata": {
        "id": "-j-7nYRLSc-8"
      },
      "source": [
        "opt = tensorflow.keras.optimizers.RMSprop\n",
        "model.compile(loss='binary_crossentropy',\n",
        "optimizer=opt(learning_rate=2e-5),\n",
        "metrics=['acc'])"
      ],
      "execution_count": null,
      "outputs": []
    },
    {
      "cell_type": "code",
      "metadata": {
        "id": "dwjhASv_Skll"
      },
      "source": [
        "train_dir = '/content/drive/MyDrive/data set do vs cat/train'\n",
        "validation_dir= '/content/drive/MyDrive/data set do vs cat/validation' \n"
      ],
      "execution_count": null,
      "outputs": []
    },
    {
      "cell_type": "code",
      "metadata": {
        "id": "a6OkIEHXTVRk"
      },
      "source": [
        "from keras.preprocessing.image import ImageDataGenerator\n"
      ],
      "execution_count": null,
      "outputs": []
    },
    {
      "cell_type": "code",
      "metadata": {
        "id": "XdCpGtQ5TfYW"
      },
      "source": [
        "train_datagen = ImageDataGenerator(rescale=1./255,rotation_range=40,\n",
        "                                    width_shift_range=0.2,\n",
        "                                    height_shift_range=0.2,\n",
        "                                    shear_range=0.2,\n",
        "                                    zoom_range=0.2,\n",
        "                                    horizontal_flip=True,)\n",
        "validation_datagen = ImageDataGenerator(rescale=1./255)"
      ],
      "execution_count": null,
      "outputs": []
    },
    {
      "cell_type": "code",
      "metadata": {
        "colab": {
          "base_uri": "https://localhost:8080/"
        },
        "id": "IFDwkCUrTkrW",
        "outputId": "f691716e-1577-40cb-ac61-ac89a34d865f"
      },
      "source": [
        "train_generator = train_datagen.flow_from_directory(\n",
        "train_dir,\n",
        "target_size=(150, 150),\n",
        "batch_size=20,\n",
        "class_mode='binary')"
      ],
      "execution_count": null,
      "outputs": [
        {
          "output_type": "stream",
          "name": "stdout",
          "text": [
            "Found 4023 images belonging to 2 classes.\n"
          ]
        }
      ]
    },
    {
      "cell_type": "code",
      "metadata": {
        "colab": {
          "base_uri": "https://localhost:8080/"
        },
        "id": "MpFAR1JvUEuU",
        "outputId": "9615c830-cc86-404e-8e41-881e909c3d66"
      },
      "source": [
        "validation_generator = validation_datagen.flow_from_directory(validation_dir,target_size=(150, 150),batch_size=20,class_mode='binary')"
      ],
      "execution_count": null,
      "outputs": [
        {
          "output_type": "stream",
          "name": "stdout",
          "text": [
            "Found 400 images belonging to 2 classes.\n"
          ]
        }
      ]
    },
    {
      "cell_type": "code",
      "metadata": {
        "colab": {
          "base_uri": "https://localhost:8080/"
        },
        "id": "xQZ-oCNTUVBr",
        "outputId": "c7ba5198-bbc1-4541-b043-7377b0143423"
      },
      "source": [
        "history = model.fit_generator(\n",
        "train_generator,\n",
        "steps_per_epoch=4,\n",
        "epochs=30,\n",
        "validation_data=validation_generator,\n",
        "validation_steps=1)"
      ],
      "execution_count": null,
      "outputs": [
        {
          "output_type": "stream",
          "name": "stderr",
          "text": [
            "/usr/local/lib/python3.7/dist-packages/keras/engine/training.py:1972: UserWarning: `Model.fit_generator` is deprecated and will be removed in a future version. Please use `Model.fit`, which supports generators.\n",
            "  warnings.warn('`Model.fit_generator` is deprecated and '\n"
          ]
        },
        {
          "output_type": "stream",
          "name": "stdout",
          "text": [
            "Epoch 1/30\n",
            "4/4 [==============================] - 16s 4s/step - loss: 0.6763 - acc: 0.5500 - val_loss: 0.8334 - val_acc: 0.4500\n",
            "Epoch 2/30\n",
            "4/4 [==============================] - 13s 3s/step - loss: 0.7044 - acc: 0.5625 - val_loss: 0.6501 - val_acc: 0.6000\n",
            "Epoch 3/30\n",
            "4/4 [==============================] - 13s 3s/step - loss: 0.5741 - acc: 0.7625 - val_loss: 0.6748 - val_acc: 0.5000\n",
            "Epoch 4/30\n",
            "4/4 [==============================] - 12s 3s/step - loss: 0.5897 - acc: 0.6750 - val_loss: 0.5417 - val_acc: 0.7000\n",
            "Epoch 5/30\n",
            "4/4 [==============================] - 14s 4s/step - loss: 0.6265 - acc: 0.6625 - val_loss: 0.4271 - val_acc: 0.9000\n",
            "Epoch 6/30\n",
            "4/4 [==============================] - 12s 3s/step - loss: 0.5527 - acc: 0.7375 - val_loss: 0.4743 - val_acc: 0.8500\n",
            "Epoch 7/30\n",
            "4/4 [==============================] - 12s 3s/step - loss: 0.5822 - acc: 0.7250 - val_loss: 0.3761 - val_acc: 0.9000\n",
            "Epoch 8/30\n",
            "4/4 [==============================] - 12s 3s/step - loss: 0.5212 - acc: 0.7500 - val_loss: 0.3342 - val_acc: 0.9000\n",
            "Epoch 9/30\n",
            "4/4 [==============================] - 13s 3s/step - loss: 0.4392 - acc: 0.7875 - val_loss: 0.2899 - val_acc: 0.8000\n",
            "Epoch 10/30\n",
            "4/4 [==============================] - 13s 3s/step - loss: 0.4641 - acc: 0.7750 - val_loss: 0.2158 - val_acc: 0.9500\n",
            "Epoch 11/30\n",
            "4/4 [==============================] - 11s 3s/step - loss: 0.3934 - acc: 0.8625 - val_loss: 0.3471 - val_acc: 0.8000\n",
            "Epoch 12/30\n",
            "4/4 [==============================] - 11s 3s/step - loss: 0.4458 - acc: 0.8125 - val_loss: 0.3809 - val_acc: 0.8000\n",
            "Epoch 13/30\n",
            "4/4 [==============================] - 10s 2s/step - loss: 0.4215 - acc: 0.8125 - val_loss: 0.2588 - val_acc: 0.9500\n",
            "Epoch 14/30\n",
            "4/4 [==============================] - 12s 3s/step - loss: 0.5419 - acc: 0.6875 - val_loss: 0.1345 - val_acc: 1.0000\n",
            "Epoch 15/30\n",
            "4/4 [==============================] - 11s 3s/step - loss: 0.3077 - acc: 0.9250 - val_loss: 0.2570 - val_acc: 0.9000\n",
            "Epoch 16/30\n",
            "4/4 [==============================] - 10s 2s/step - loss: 0.4512 - acc: 0.7500 - val_loss: 0.3008 - val_acc: 0.9500\n",
            "Epoch 17/30\n",
            "4/4 [==============================] - 10s 3s/step - loss: 0.3687 - acc: 0.8500 - val_loss: 0.4525 - val_acc: 0.8000\n",
            "Epoch 18/30\n",
            "4/4 [==============================] - 10s 2s/step - loss: 0.2815 - acc: 0.8625 - val_loss: 0.1543 - val_acc: 0.9500\n",
            "Epoch 19/30\n",
            "4/4 [==============================] - 11s 3s/step - loss: 0.4431 - acc: 0.7875 - val_loss: 0.5011 - val_acc: 0.8000\n",
            "Epoch 20/30\n",
            "4/4 [==============================] - 8s 2s/step - loss: 0.4013 - acc: 0.8250 - val_loss: 0.0766 - val_acc: 1.0000\n",
            "Epoch 21/30\n",
            "4/4 [==============================] - 9s 2s/step - loss: 0.3664 - acc: 0.7875 - val_loss: 0.7123 - val_acc: 0.7000\n",
            "Epoch 22/30\n",
            "4/4 [==============================] - 8s 2s/step - loss: 0.3466 - acc: 0.8625 - val_loss: 0.7872 - val_acc: 0.6500\n",
            "Epoch 23/30\n",
            "4/4 [==============================] - 8s 2s/step - loss: 0.3667 - acc: 0.8375 - val_loss: 0.1121 - val_acc: 1.0000\n",
            "Epoch 24/30\n",
            "4/4 [==============================] - 8s 2s/step - loss: 0.2838 - acc: 0.8750 - val_loss: 0.3594 - val_acc: 0.8500\n",
            "Epoch 25/30\n",
            "4/4 [==============================] - 8s 2s/step - loss: 0.4127 - acc: 0.7750 - val_loss: 0.2834 - val_acc: 0.8500\n",
            "Epoch 26/30\n",
            "4/4 [==============================] - 7s 2s/step - loss: 0.3677 - acc: 0.8375 - val_loss: 0.1884 - val_acc: 0.8500\n",
            "Epoch 27/30\n",
            "4/4 [==============================] - 7s 2s/step - loss: 0.3297 - acc: 0.8375 - val_loss: 0.1736 - val_acc: 1.0000\n",
            "Epoch 28/30\n",
            "4/4 [==============================] - 7s 2s/step - loss: 0.3114 - acc: 0.8625 - val_loss: 0.2614 - val_acc: 0.9500\n",
            "Epoch 29/30\n",
            "4/4 [==============================] - 7s 2s/step - loss: 0.2913 - acc: 0.8625 - val_loss: 0.3197 - val_acc: 0.8500\n",
            "Epoch 30/30\n",
            "4/4 [==============================] - 9s 2s/step - loss: 0.2363 - acc: 0.9375 - val_loss: 0.3394 - val_acc: 0.8500\n"
          ]
        }
      ]
    },
    {
      "cell_type": "code",
      "metadata": {
        "id": "eeoHfgr_Uiuo"
      },
      "source": [
        "\n"
      ],
      "execution_count": null,
      "outputs": []
    },
    {
      "cell_type": "code",
      "metadata": {
        "id": "jsU_LfLM75aA"
      },
      "source": [
        ""
      ],
      "execution_count": null,
      "outputs": []
    }
  ]
}