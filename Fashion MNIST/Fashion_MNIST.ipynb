{
  "nbformat": 4,
  "nbformat_minor": 0,
  "metadata": {
    "accelerator": "GPU",
    "colab": {
      "name": "Fashion_MNIST.ipynb",
      "provenance": []
    },
    "kernelspec": {
      "display_name": "Python 3",
      "name": "python3"
    },
    "language_info": {
      "name": "python"
    }
  },
  "cells": [
    {
      "cell_type": "code",
      "metadata": {
        "id": "aP3eY8xnvnWt"
      },
      "source": [
        "import tensorflow"
      ],
      "execution_count": null,
      "outputs": []
    },
    {
      "cell_type": "code",
      "metadata": {
        "id": "AIbqy2-JyJAh"
      },
      "source": [
        "model= tensorflow.keras.Sequential()"
      ],
      "execution_count": null,
      "outputs": []
    },
    {
      "cell_type": "code",
      "metadata": {
        "id": "6ZCc68FB2hb5"
      },
      "source": [
        "from tensorflow.keras import layers"
      ],
      "execution_count": null,
      "outputs": []
    },
    {
      "cell_type": "code",
      "metadata": {
        "id": "GAlVJr8q20z4"
      },
      "source": [
        "from tensorflow.keras.layers import Dense"
      ],
      "execution_count": null,
      "outputs": []
    },
    {
      "cell_type": "code",
      "metadata": {
        "id": "q_Tr1yi33I74"
      },
      "source": [
        "from tensorflow.keras.layers import Flatten"
      ],
      "execution_count": null,
      "outputs": []
    },
    {
      "cell_type": "code",
      "metadata": {
        "id": "8RwINVP23e37"
      },
      "source": [
        "model.add(Dense(128, activation='relu', input_shape= (28*28,)))\n",
        "model.add(Dense(64, activation='softmax'))\n",
        "model.add(Dense(32,activation='relu'))\n",
        "model.add(Dense(10,activation='softmax'))"
      ],
      "execution_count": null,
      "outputs": []
    },
    {
      "cell_type": "code",
      "metadata": {
        "id": "O-o20MGf5pw0"
      },
      "source": [
        "model.compile(optimizer='rmsprop',loss='categorical_crossentropy', metrics=['accuracy'])"
      ],
      "execution_count": null,
      "outputs": []
    },
    {
      "cell_type": "code",
      "metadata": {
        "id": "ACWWMoS_CX49"
      },
      "source": [
        "from keras.datasets import fashion_mnist\n",
        "(train_images,train_labels),(test_images,test_labels)= fashion_mnist.load_data()"
      ],
      "execution_count": null,
      "outputs": []
    },
    {
      "cell_type": "code",
      "metadata": {
        "colab": {
          "base_uri": "https://localhost:8080/"
        },
        "id": "4c7izytaDn05",
        "outputId": "840ab66e-e736-4c15-dbeb-d00a191b8acd"
      },
      "source": [
        "train_images[0].ndim"
      ],
      "execution_count": null,
      "outputs": [
        {
          "output_type": "execute_result",
          "data": {
            "text/plain": [
              "2"
            ]
          },
          "metadata": {
            "tags": []
          },
          "execution_count": 9
        }
      ]
    },
    {
      "cell_type": "code",
      "metadata": {
        "id": "vQg4G8lFE_sz"
      },
      "source": [
        "train_images= train_images.reshape((60000,28*28))\n",
        "train_images=train_images/255.0\n",
        "test_images= test_images.reshape((10000,28*28))\n",
        "test_image=test_images/255.0"
      ],
      "execution_count": null,
      "outputs": []
    },
    {
      "cell_type": "code",
      "metadata": {
        "colab": {
          "base_uri": "https://localhost:8080/"
        },
        "id": "JHKCb_bjGGM5",
        "outputId": "fb3a3d22-1d14-4085-d121-b0633f65619e"
      },
      "source": [
        "train_labels[0]"
      ],
      "execution_count": null,
      "outputs": [
        {
          "output_type": "execute_result",
          "data": {
            "text/plain": [
              "9"
            ]
          },
          "metadata": {
            "tags": []
          },
          "execution_count": 11
        }
      ]
    },
    {
      "cell_type": "code",
      "metadata": {
        "id": "qXxXaj1FGjCi"
      },
      "source": [
        "from tensorflow.keras.utils import to_categorical\n",
        "train_labels= to_categorical(train_labels)\n",
        "test_labels= to_categorical(test_labels)\n"
      ],
      "execution_count": null,
      "outputs": []
    },
    {
      "cell_type": "code",
      "metadata": {
        "colab": {
          "base_uri": "https://localhost:8080/"
        },
        "id": "hGC2C44JHNfI",
        "outputId": "782ada74-5411-4cbb-939e-8065e08a9469"
      },
      "source": [
        "train_labels[0]"
      ],
      "execution_count": null,
      "outputs": [
        {
          "output_type": "execute_result",
          "data": {
            "text/plain": [
              "array([0., 0., 0., 0., 0., 0., 0., 0., 0., 1.], dtype=float32)"
            ]
          },
          "metadata": {
            "tags": []
          },
          "execution_count": 13
        }
      ]
    },
    {
      "cell_type": "code",
      "metadata": {
        "colab": {
          "base_uri": "https://localhost:8080/"
        },
        "id": "uIiladg5HQQ9",
        "outputId": "2054ac34-eafa-41ea-c505-d4e5a367b05c"
      },
      "source": [
        "model.fit(train_images,train_labels, batch_size=256, epochs=10)"
      ],
      "execution_count": null,
      "outputs": [
        {
          "output_type": "stream",
          "text": [
            "Epoch 1/10\n",
            "235/235 [==============================] - 2s 3ms/step - loss: 1.5058 - accuracy: 0.6886\n",
            "Epoch 2/10\n",
            "235/235 [==============================] - 1s 3ms/step - loss: 0.6763 - accuracy: 0.7423\n",
            "Epoch 3/10\n",
            "235/235 [==============================] - 1s 3ms/step - loss: 0.5794 - accuracy: 0.7532\n",
            "Epoch 4/10\n",
            "235/235 [==============================] - 1s 3ms/step - loss: 0.5309 - accuracy: 0.7801\n",
            "Epoch 5/10\n",
            "235/235 [==============================] - 1s 3ms/step - loss: 0.4760 - accuracy: 0.8178\n",
            "Epoch 6/10\n",
            "235/235 [==============================] - 1s 3ms/step - loss: 0.4220 - accuracy: 0.8513\n",
            "Epoch 7/10\n",
            "235/235 [==============================] - 1s 3ms/step - loss: 0.3751 - accuracy: 0.8678\n",
            "Epoch 8/10\n",
            "235/235 [==============================] - 1s 3ms/step - loss: 0.3475 - accuracy: 0.8767\n",
            "Epoch 9/10\n",
            "235/235 [==============================] - 1s 3ms/step - loss: 0.3293 - accuracy: 0.8826\n",
            "Epoch 10/10\n",
            "235/235 [==============================] - 1s 3ms/step - loss: 0.3159 - accuracy: 0.8878\n"
          ],
          "name": "stdout"
        },
        {
          "output_type": "execute_result",
          "data": {
            "text/plain": [
              "<keras.callbacks.History at 0x7fd332704e90>"
            ]
          },
          "metadata": {
            "tags": []
          },
          "execution_count": 14
        }
      ]
    },
    {
      "cell_type": "code",
      "metadata": {
        "id": "TwbM28KxHyZw"
      },
      "source": [
        "model.save('Fashion_Mnist.h5')"
      ],
      "execution_count": null,
      "outputs": []
    },
    {
      "cell_type": "code",
      "metadata": {
        "id": "cqw-wK_SJhQt"
      },
      "source": [
        ""
      ],
      "execution_count": null,
      "outputs": []
    }
  ]
}