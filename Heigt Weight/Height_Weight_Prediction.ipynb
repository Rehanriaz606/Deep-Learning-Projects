{
  "nbformat": 4,
  "nbformat_minor": 0,
  "metadata": {
    "colab": {
      "name": "Height Weight Prediction.ipynb",
      "provenance": [],
      "collapsed_sections": []
    },
    "kernelspec": {
      "name": "python3",
      "display_name": "Python 3"
    },
    "language_info": {
      "name": "python"
    },
    "accelerator": "GPU"
  },
  "cells": [
    {
      "cell_type": "code",
      "metadata": {
        "id": "hcFyJIzeKltb"
      },
      "source": [
        "import pandas as pd"
      ],
      "execution_count": 360,
      "outputs": []
    },
    {
      "cell_type": "code",
      "metadata": {
        "id": "2GRYmHvgK2g3"
      },
      "source": [
        "data=pd.read_csv('/content/weight-height.csv')"
      ],
      "execution_count": 361,
      "outputs": []
    },
    {
      "cell_type": "code",
      "metadata": {
        "colab": {
          "base_uri": "https://localhost:8080/",
          "height": 419
        },
        "id": "KgFuu5zcLF9Q",
        "outputId": "67ffd229-37a9-4800-8f8b-11945f1a0369"
      },
      "source": [
        "data"
      ],
      "execution_count": 362,
      "outputs": [
        {
          "output_type": "execute_result",
          "data": {
            "text/html": [
              "<div>\n",
              "<style scoped>\n",
              "    .dataframe tbody tr th:only-of-type {\n",
              "        vertical-align: middle;\n",
              "    }\n",
              "\n",
              "    .dataframe tbody tr th {\n",
              "        vertical-align: top;\n",
              "    }\n",
              "\n",
              "    .dataframe thead th {\n",
              "        text-align: right;\n",
              "    }\n",
              "</style>\n",
              "<table border=\"1\" class=\"dataframe\">\n",
              "  <thead>\n",
              "    <tr style=\"text-align: right;\">\n",
              "      <th></th>\n",
              "      <th>Gender</th>\n",
              "      <th>Height</th>\n",
              "      <th>Weight</th>\n",
              "    </tr>\n",
              "  </thead>\n",
              "  <tbody>\n",
              "    <tr>\n",
              "      <th>0</th>\n",
              "      <td>Male</td>\n",
              "      <td>73.847017</td>\n",
              "      <td>241.893563</td>\n",
              "    </tr>\n",
              "    <tr>\n",
              "      <th>1</th>\n",
              "      <td>Male</td>\n",
              "      <td>68.781904</td>\n",
              "      <td>162.310473</td>\n",
              "    </tr>\n",
              "    <tr>\n",
              "      <th>2</th>\n",
              "      <td>Male</td>\n",
              "      <td>74.110105</td>\n",
              "      <td>212.740856</td>\n",
              "    </tr>\n",
              "    <tr>\n",
              "      <th>3</th>\n",
              "      <td>Male</td>\n",
              "      <td>71.730978</td>\n",
              "      <td>220.042470</td>\n",
              "    </tr>\n",
              "    <tr>\n",
              "      <th>4</th>\n",
              "      <td>Male</td>\n",
              "      <td>69.881796</td>\n",
              "      <td>206.349801</td>\n",
              "    </tr>\n",
              "    <tr>\n",
              "      <th>...</th>\n",
              "      <td>...</td>\n",
              "      <td>...</td>\n",
              "      <td>...</td>\n",
              "    </tr>\n",
              "    <tr>\n",
              "      <th>9995</th>\n",
              "      <td>Female</td>\n",
              "      <td>66.172652</td>\n",
              "      <td>136.777454</td>\n",
              "    </tr>\n",
              "    <tr>\n",
              "      <th>9996</th>\n",
              "      <td>Female</td>\n",
              "      <td>67.067155</td>\n",
              "      <td>170.867906</td>\n",
              "    </tr>\n",
              "    <tr>\n",
              "      <th>9997</th>\n",
              "      <td>Female</td>\n",
              "      <td>63.867992</td>\n",
              "      <td>128.475319</td>\n",
              "    </tr>\n",
              "    <tr>\n",
              "      <th>9998</th>\n",
              "      <td>Female</td>\n",
              "      <td>69.034243</td>\n",
              "      <td>163.852461</td>\n",
              "    </tr>\n",
              "    <tr>\n",
              "      <th>9999</th>\n",
              "      <td>Female</td>\n",
              "      <td>61.944246</td>\n",
              "      <td>113.649103</td>\n",
              "    </tr>\n",
              "  </tbody>\n",
              "</table>\n",
              "<p>10000 rows × 3 columns</p>\n",
              "</div>"
            ],
            "text/plain": [
              "      Gender     Height      Weight\n",
              "0       Male  73.847017  241.893563\n",
              "1       Male  68.781904  162.310473\n",
              "2       Male  74.110105  212.740856\n",
              "3       Male  71.730978  220.042470\n",
              "4       Male  69.881796  206.349801\n",
              "...      ...        ...         ...\n",
              "9995  Female  66.172652  136.777454\n",
              "9996  Female  67.067155  170.867906\n",
              "9997  Female  63.867992  128.475319\n",
              "9998  Female  69.034243  163.852461\n",
              "9999  Female  61.944246  113.649103\n",
              "\n",
              "[10000 rows x 3 columns]"
            ]
          },
          "metadata": {},
          "execution_count": 362
        }
      ]
    },
    {
      "cell_type": "code",
      "metadata": {
        "colab": {
          "base_uri": "https://localhost:8080/"
        },
        "id": "q0gJHypuLLSN",
        "outputId": "020424ed-74d3-49c2-aea6-f8c43458f47b"
      },
      "source": [
        "data['Gender'].value_counts()"
      ],
      "execution_count": 363,
      "outputs": [
        {
          "output_type": "execute_result",
          "data": {
            "text/plain": [
              "Male      5000\n",
              "Female    5000\n",
              "Name: Gender, dtype: int64"
            ]
          },
          "metadata": {},
          "execution_count": 363
        }
      ]
    },
    {
      "cell_type": "code",
      "metadata": {
        "colab": {
          "base_uri": "https://localhost:8080/"
        },
        "id": "cAJEirRlMT-P",
        "outputId": "a254ec39-1f9b-4949-9727-d147ccb9485f"
      },
      "source": [
        "data['Gender']"
      ],
      "execution_count": 364,
      "outputs": [
        {
          "output_type": "execute_result",
          "data": {
            "text/plain": [
              "0         Male\n",
              "1         Male\n",
              "2         Male\n",
              "3         Male\n",
              "4         Male\n",
              "         ...  \n",
              "9995    Female\n",
              "9996    Female\n",
              "9997    Female\n",
              "9998    Female\n",
              "9999    Female\n",
              "Name: Gender, Length: 10000, dtype: object"
            ]
          },
          "metadata": {},
          "execution_count": 364
        }
      ]
    },
    {
      "cell_type": "code",
      "metadata": {
        "id": "jRO_VD17MohV"
      },
      "source": [
        "dummies =pd.get_dummies(data)"
      ],
      "execution_count": 365,
      "outputs": []
    },
    {
      "cell_type": "code",
      "metadata": {
        "colab": {
          "base_uri": "https://localhost:8080/",
          "height": 419
        },
        "id": "Wig0wQU2NHmq",
        "outputId": "156e02a4-5a5f-4ef7-be03-c2bb4ae3ce23"
      },
      "source": [
        "dummies"
      ],
      "execution_count": 366,
      "outputs": [
        {
          "output_type": "execute_result",
          "data": {
            "text/html": [
              "<div>\n",
              "<style scoped>\n",
              "    .dataframe tbody tr th:only-of-type {\n",
              "        vertical-align: middle;\n",
              "    }\n",
              "\n",
              "    .dataframe tbody tr th {\n",
              "        vertical-align: top;\n",
              "    }\n",
              "\n",
              "    .dataframe thead th {\n",
              "        text-align: right;\n",
              "    }\n",
              "</style>\n",
              "<table border=\"1\" class=\"dataframe\">\n",
              "  <thead>\n",
              "    <tr style=\"text-align: right;\">\n",
              "      <th></th>\n",
              "      <th>Height</th>\n",
              "      <th>Weight</th>\n",
              "      <th>Gender_Female</th>\n",
              "      <th>Gender_Male</th>\n",
              "    </tr>\n",
              "  </thead>\n",
              "  <tbody>\n",
              "    <tr>\n",
              "      <th>0</th>\n",
              "      <td>73.847017</td>\n",
              "      <td>241.893563</td>\n",
              "      <td>0</td>\n",
              "      <td>1</td>\n",
              "    </tr>\n",
              "    <tr>\n",
              "      <th>1</th>\n",
              "      <td>68.781904</td>\n",
              "      <td>162.310473</td>\n",
              "      <td>0</td>\n",
              "      <td>1</td>\n",
              "    </tr>\n",
              "    <tr>\n",
              "      <th>2</th>\n",
              "      <td>74.110105</td>\n",
              "      <td>212.740856</td>\n",
              "      <td>0</td>\n",
              "      <td>1</td>\n",
              "    </tr>\n",
              "    <tr>\n",
              "      <th>3</th>\n",
              "      <td>71.730978</td>\n",
              "      <td>220.042470</td>\n",
              "      <td>0</td>\n",
              "      <td>1</td>\n",
              "    </tr>\n",
              "    <tr>\n",
              "      <th>4</th>\n",
              "      <td>69.881796</td>\n",
              "      <td>206.349801</td>\n",
              "      <td>0</td>\n",
              "      <td>1</td>\n",
              "    </tr>\n",
              "    <tr>\n",
              "      <th>...</th>\n",
              "      <td>...</td>\n",
              "      <td>...</td>\n",
              "      <td>...</td>\n",
              "      <td>...</td>\n",
              "    </tr>\n",
              "    <tr>\n",
              "      <th>9995</th>\n",
              "      <td>66.172652</td>\n",
              "      <td>136.777454</td>\n",
              "      <td>1</td>\n",
              "      <td>0</td>\n",
              "    </tr>\n",
              "    <tr>\n",
              "      <th>9996</th>\n",
              "      <td>67.067155</td>\n",
              "      <td>170.867906</td>\n",
              "      <td>1</td>\n",
              "      <td>0</td>\n",
              "    </tr>\n",
              "    <tr>\n",
              "      <th>9997</th>\n",
              "      <td>63.867992</td>\n",
              "      <td>128.475319</td>\n",
              "      <td>1</td>\n",
              "      <td>0</td>\n",
              "    </tr>\n",
              "    <tr>\n",
              "      <th>9998</th>\n",
              "      <td>69.034243</td>\n",
              "      <td>163.852461</td>\n",
              "      <td>1</td>\n",
              "      <td>0</td>\n",
              "    </tr>\n",
              "    <tr>\n",
              "      <th>9999</th>\n",
              "      <td>61.944246</td>\n",
              "      <td>113.649103</td>\n",
              "      <td>1</td>\n",
              "      <td>0</td>\n",
              "    </tr>\n",
              "  </tbody>\n",
              "</table>\n",
              "<p>10000 rows × 4 columns</p>\n",
              "</div>"
            ],
            "text/plain": [
              "         Height      Weight  Gender_Female  Gender_Male\n",
              "0     73.847017  241.893563              0            1\n",
              "1     68.781904  162.310473              0            1\n",
              "2     74.110105  212.740856              0            1\n",
              "3     71.730978  220.042470              0            1\n",
              "4     69.881796  206.349801              0            1\n",
              "...         ...         ...            ...          ...\n",
              "9995  66.172652  136.777454              1            0\n",
              "9996  67.067155  170.867906              1            0\n",
              "9997  63.867992  128.475319              1            0\n",
              "9998  69.034243  163.852461              1            0\n",
              "9999  61.944246  113.649103              1            0\n",
              "\n",
              "[10000 rows x 4 columns]"
            ]
          },
          "metadata": {},
          "execution_count": 366
        }
      ]
    },
    {
      "cell_type": "code",
      "metadata": {
        "id": "w0HxRZebNKDZ"
      },
      "source": [
        "y=dummies.Weight"
      ],
      "execution_count": 367,
      "outputs": []
    },
    {
      "cell_type": "code",
      "metadata": {
        "id": "evPUOuhxOcUj"
      },
      "source": [
        "x=dummies.drop('Weight', axis='columns')"
      ],
      "execution_count": 368,
      "outputs": []
    },
    {
      "cell_type": "code",
      "metadata": {
        "colab": {
          "base_uri": "https://localhost:8080/",
          "height": 419
        },
        "id": "M7ls8sPdPICt",
        "outputId": "39b749e5-c996-4ec2-8b96-94fb6fbe7410"
      },
      "source": [
        "x"
      ],
      "execution_count": 369,
      "outputs": [
        {
          "output_type": "execute_result",
          "data": {
            "text/html": [
              "<div>\n",
              "<style scoped>\n",
              "    .dataframe tbody tr th:only-of-type {\n",
              "        vertical-align: middle;\n",
              "    }\n",
              "\n",
              "    .dataframe tbody tr th {\n",
              "        vertical-align: top;\n",
              "    }\n",
              "\n",
              "    .dataframe thead th {\n",
              "        text-align: right;\n",
              "    }\n",
              "</style>\n",
              "<table border=\"1\" class=\"dataframe\">\n",
              "  <thead>\n",
              "    <tr style=\"text-align: right;\">\n",
              "      <th></th>\n",
              "      <th>Height</th>\n",
              "      <th>Gender_Female</th>\n",
              "      <th>Gender_Male</th>\n",
              "    </tr>\n",
              "  </thead>\n",
              "  <tbody>\n",
              "    <tr>\n",
              "      <th>0</th>\n",
              "      <td>73.847017</td>\n",
              "      <td>0</td>\n",
              "      <td>1</td>\n",
              "    </tr>\n",
              "    <tr>\n",
              "      <th>1</th>\n",
              "      <td>68.781904</td>\n",
              "      <td>0</td>\n",
              "      <td>1</td>\n",
              "    </tr>\n",
              "    <tr>\n",
              "      <th>2</th>\n",
              "      <td>74.110105</td>\n",
              "      <td>0</td>\n",
              "      <td>1</td>\n",
              "    </tr>\n",
              "    <tr>\n",
              "      <th>3</th>\n",
              "      <td>71.730978</td>\n",
              "      <td>0</td>\n",
              "      <td>1</td>\n",
              "    </tr>\n",
              "    <tr>\n",
              "      <th>4</th>\n",
              "      <td>69.881796</td>\n",
              "      <td>0</td>\n",
              "      <td>1</td>\n",
              "    </tr>\n",
              "    <tr>\n",
              "      <th>...</th>\n",
              "      <td>...</td>\n",
              "      <td>...</td>\n",
              "      <td>...</td>\n",
              "    </tr>\n",
              "    <tr>\n",
              "      <th>9995</th>\n",
              "      <td>66.172652</td>\n",
              "      <td>1</td>\n",
              "      <td>0</td>\n",
              "    </tr>\n",
              "    <tr>\n",
              "      <th>9996</th>\n",
              "      <td>67.067155</td>\n",
              "      <td>1</td>\n",
              "      <td>0</td>\n",
              "    </tr>\n",
              "    <tr>\n",
              "      <th>9997</th>\n",
              "      <td>63.867992</td>\n",
              "      <td>1</td>\n",
              "      <td>0</td>\n",
              "    </tr>\n",
              "    <tr>\n",
              "      <th>9998</th>\n",
              "      <td>69.034243</td>\n",
              "      <td>1</td>\n",
              "      <td>0</td>\n",
              "    </tr>\n",
              "    <tr>\n",
              "      <th>9999</th>\n",
              "      <td>61.944246</td>\n",
              "      <td>1</td>\n",
              "      <td>0</td>\n",
              "    </tr>\n",
              "  </tbody>\n",
              "</table>\n",
              "<p>10000 rows × 3 columns</p>\n",
              "</div>"
            ],
            "text/plain": [
              "         Height  Gender_Female  Gender_Male\n",
              "0     73.847017              0            1\n",
              "1     68.781904              0            1\n",
              "2     74.110105              0            1\n",
              "3     71.730978              0            1\n",
              "4     69.881796              0            1\n",
              "...         ...            ...          ...\n",
              "9995  66.172652              1            0\n",
              "9996  67.067155              1            0\n",
              "9997  63.867992              1            0\n",
              "9998  69.034243              1            0\n",
              "9999  61.944246              1            0\n",
              "\n",
              "[10000 rows x 3 columns]"
            ]
          },
          "metadata": {},
          "execution_count": 369
        }
      ]
    },
    {
      "cell_type": "code",
      "metadata": {
        "id": "-4haQRKVPQI9"
      },
      "source": [
        "from sklearn.model_selection import train_test_split"
      ],
      "execution_count": 370,
      "outputs": []
    },
    {
      "cell_type": "code",
      "metadata": {
        "id": "-ipQG_wcQ3UO"
      },
      "source": [
        "train_data,test_data,train_label,test_label= train_test_split(x,y,test_size=0.2)"
      ],
      "execution_count": 371,
      "outputs": []
    },
    {
      "cell_type": "code",
      "metadata": {
        "id": "RCPrprvmRGUG"
      },
      "source": [
        "from sklearn import preprocessing\n",
        "tain_data=preprocessing.normalize(train_data)\n",
        "test_data=preprocessing.normalize(test_data)"
      ],
      "execution_count": 372,
      "outputs": []
    },
    {
      "cell_type": "code",
      "metadata": {
        "id": "2iOi9milRSev"
      },
      "source": [
        "from tensorflow.keras import models\n",
        "from tensorflow.keras.layers import *"
      ],
      "execution_count": 373,
      "outputs": []
    },
    {
      "cell_type": "code",
      "metadata": {
        "id": "cCdV1ojTRiQR"
      },
      "source": [
        "model = models.Sequential()"
      ],
      "execution_count": 374,
      "outputs": []
    },
    {
      "cell_type": "code",
      "metadata": {
        "id": "6-iHIcplRl5p"
      },
      "source": [
        "model.add(Dense(16,activation='tanh',input_shape=(train_data.shape[1],)))\n",
        "model.add(Dense(612,activation='tanh'))\n",
        "model.add(Dense(1))"
      ],
      "execution_count": 375,
      "outputs": []
    },
    {
      "cell_type": "code",
      "metadata": {
        "id": "3WWuM7MXR6xj"
      },
      "source": [
        "model.compile(optimizer='adam',loss='mae',metrics=['mae'])"
      ],
      "execution_count": 376,
      "outputs": []
    },
    {
      "cell_type": "code",
      "metadata": {
        "colab": {
          "base_uri": "https://localhost:8080/"
        },
        "id": "juWFLQvzSAk2",
        "outputId": "0e3bd9b9-9d58-4b62-ecd5-1dbb1adadf06"
      },
      "source": [
        "model.fit(train_data,train_label,epochs=30)"
      ],
      "execution_count": 377,
      "outputs": [
        {
          "output_type": "stream",
          "name": "stdout",
          "text": [
            "Epoch 1/30\n",
            "250/250 [==============================] - 1s 2ms/step - loss: 70.6331 - mae: 70.6331\n",
            "Epoch 2/30\n",
            "250/250 [==============================] - 1s 2ms/step - loss: 24.0186 - mae: 24.0186\n",
            "Epoch 3/30\n",
            "250/250 [==============================] - 1s 2ms/step - loss: 15.2030 - mae: 15.2030\n",
            "Epoch 4/30\n",
            "250/250 [==============================] - 1s 2ms/step - loss: 14.5930 - mae: 14.5930\n",
            "Epoch 5/30\n",
            "250/250 [==============================] - 1s 2ms/step - loss: 14.0424 - mae: 14.0424\n",
            "Epoch 6/30\n",
            "250/250 [==============================] - 1s 2ms/step - loss: 13.5217 - mae: 13.5217\n",
            "Epoch 7/30\n",
            "250/250 [==============================] - 1s 2ms/step - loss: 13.2066 - mae: 13.2066\n",
            "Epoch 8/30\n",
            "250/250 [==============================] - 1s 2ms/step - loss: 12.5560 - mae: 12.5560\n",
            "Epoch 9/30\n",
            "250/250 [==============================] - 1s 2ms/step - loss: 12.0260 - mae: 12.0260\n",
            "Epoch 10/30\n",
            "250/250 [==============================] - 1s 2ms/step - loss: 11.3938 - mae: 11.3938\n",
            "Epoch 11/30\n",
            "250/250 [==============================] - 1s 2ms/step - loss: 10.6009 - mae: 10.6009\n",
            "Epoch 12/30\n",
            "250/250 [==============================] - 1s 2ms/step - loss: 9.9579 - mae: 9.9579\n",
            "Epoch 13/30\n",
            "250/250 [==============================] - 1s 2ms/step - loss: 9.5622 - mae: 9.5622\n",
            "Epoch 14/30\n",
            "250/250 [==============================] - 1s 2ms/step - loss: 8.9381 - mae: 8.9381\n",
            "Epoch 15/30\n",
            "250/250 [==============================] - 1s 2ms/step - loss: 8.9424 - mae: 8.9424\n",
            "Epoch 16/30\n",
            "250/250 [==============================] - 1s 2ms/step - loss: 8.9242 - mae: 8.9242\n",
            "Epoch 17/30\n",
            "250/250 [==============================] - 1s 2ms/step - loss: 8.8452 - mae: 8.8452\n",
            "Epoch 18/30\n",
            "250/250 [==============================] - 1s 2ms/step - loss: 9.1068 - mae: 9.1068\n",
            "Epoch 19/30\n",
            "250/250 [==============================] - 1s 2ms/step - loss: 8.6846 - mae: 8.6846\n",
            "Epoch 20/30\n",
            "250/250 [==============================] - 1s 2ms/step - loss: 8.6781 - mae: 8.6781\n",
            "Epoch 21/30\n",
            "250/250 [==============================] - 1s 2ms/step - loss: 8.6175 - mae: 8.6175\n",
            "Epoch 22/30\n",
            "250/250 [==============================] - 1s 2ms/step - loss: 8.7712 - mae: 8.7712\n",
            "Epoch 23/30\n",
            "250/250 [==============================] - 1s 2ms/step - loss: 8.7286 - mae: 8.7286\n",
            "Epoch 24/30\n",
            "250/250 [==============================] - 1s 2ms/step - loss: 8.6758 - mae: 8.6758\n",
            "Epoch 25/30\n",
            "250/250 [==============================] - 1s 2ms/step - loss: 8.3997 - mae: 8.3997\n",
            "Epoch 26/30\n",
            "250/250 [==============================] - 1s 2ms/step - loss: 8.5924 - mae: 8.5924\n",
            "Epoch 27/30\n",
            "250/250 [==============================] - 1s 2ms/step - loss: 8.5452 - mae: 8.5452\n",
            "Epoch 28/30\n",
            "250/250 [==============================] - 1s 2ms/step - loss: 8.7058 - mae: 8.7058\n",
            "Epoch 29/30\n",
            "250/250 [==============================] - 1s 2ms/step - loss: 8.4916 - mae: 8.4916\n",
            "Epoch 30/30\n",
            "250/250 [==============================] - 1s 2ms/step - loss: 8.4690 - mae: 8.4690\n"
          ]
        },
        {
          "output_type": "execute_result",
          "data": {
            "text/plain": [
              "<keras.callbacks.History at 0x7f438c1fb250>"
            ]
          },
          "metadata": {},
          "execution_count": 377
        }
      ]
    },
    {
      "cell_type": "code",
      "metadata": {
        "id": "WGXE4vvbSDCC"
      },
      "source": [
        ""
      ],
      "execution_count": 377,
      "outputs": []
    }
  ]
}