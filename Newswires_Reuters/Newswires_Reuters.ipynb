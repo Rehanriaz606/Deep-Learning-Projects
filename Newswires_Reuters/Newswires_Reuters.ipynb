{
  "nbformat": 4,
  "nbformat_minor": 0,
  "metadata": {
    "colab": {
      "name": "Newswires_Reuters.ipynb",
      "provenance": []
    },
    "kernelspec": {
      "name": "python3",
      "display_name": "Python 3"
    },
    "language_info": {
      "name": "python"
    }
  },
  "cells": [
    {
      "cell_type": "code",
      "metadata": {
        "id": "G7XXeaFYEWme"
      },
      "source": [
        "from keras.datasets import reuters"
      ],
      "execution_count": 40,
      "outputs": []
    },
    {
      "cell_type": "code",
      "metadata": {
        "id": "FwFujORxItKd"
      },
      "source": [
        "(train_data,train_labels),(test_data,test_labels) = reuters.load_data(num_words=10000)"
      ],
      "execution_count": 41,
      "outputs": []
    },
    {
      "cell_type": "code",
      "metadata": {
        "id": "F0XFhBdqJwV5"
      },
      "source": [
        "word_index = reuters.get_word_index()\n",
        "reverse_word_index = dict([(value,key) for (key,value) in word_index.items()])\n",
        "decoded_review= ''.join([reverse_word_index.get(i -3, '?') for i in train_data[0]])"
      ],
      "execution_count": 42,
      "outputs": []
    },
    {
      "cell_type": "code",
      "metadata": {
        "id": "kjbgFhI-LWX2"
      },
      "source": [
        "import numpy as np\n",
        "def vectorize_sequences(sequences, dimensions=10000):\n",
        "  results= np.zeros((len(sequences),dimensions))\n",
        "  for i,sequence in enumerate(sequences):\n",
        "    results [i, sequence] = 1.\n",
        "  return  results\n",
        "x_train = vectorize_sequences(train_data)\n",
        "x_test = vectorize_sequences(test_data)"
      ],
      "execution_count": 43,
      "outputs": []
    },
    {
      "cell_type": "code",
      "metadata": {
        "id": "bHw1uV94Pet0"
      },
      "source": [
        "y_train = vectorize_sequences(train_data)\n",
        "y_test= vectorize_sequences(test_data)"
      ],
      "execution_count": 44,
      "outputs": []
    },
    {
      "cell_type": "markdown",
      "metadata": {
        "id": "7qCVDXx3Vq47"
      },
      "source": [
        ""
      ]
    },
    {
      "cell_type": "code",
      "metadata": {
        "id": "1uyW_UdRXF_b"
      },
      "source": [
        "from keras.utils.np_utils import to_categorical \n",
        "one_hot_train_labels = to_categorical(train_labels)\n",
        "one_hot_test_labels = to_categorical(test_labels)"
      ],
      "execution_count": 45,
      "outputs": []
    },
    {
      "cell_type": "code",
      "metadata": {
        "id": "qwVv7J0uXL6m"
      },
      "source": [
        "from keras import models\n",
        "from keras import layers\n",
        "model = models.Sequential()\n",
        "model.add(layers.Dense(64, activation='relu',input_shape= (10000,)))\n",
        "model.add(layers.Dense(64, activation='relu'))\n",
        "model.add(layers.Dense(46,activation='softmax'))"
      ],
      "execution_count": 46,
      "outputs": []
    },
    {
      "cell_type": "code",
      "metadata": {
        "id": "ZuGuLS5nYd42"
      },
      "source": [
        "model.compile(optimizer='rmsprop', loss='categorical_crossentropy', metrics=['acc'])"
      ],
      "execution_count": 47,
      "outputs": []
    },
    {
      "cell_type": "code",
      "metadata": {
        "id": "mzqv9jNOZ3cv"
      },
      "source": [
        "x_val = x_train[:1000]\n",
        "partial_x_train = x_train[1000:]\n",
        "y_val = one_hot_train_labels[:1000]\n",
        "partial_y_train = one_hot_train_labels[1000:]"
      ],
      "execution_count": 48,
      "outputs": []
    },
    {
      "cell_type": "code",
      "metadata": {
        "id": "KkJKajAfaBAw",
        "outputId": "21bf91d1-78dd-448f-ca42-64aa0d3c04af",
        "colab": {
          "base_uri": "https://localhost:8080/"
        }
      },
      "source": [
        "history = model.fit(partial_x_train,\n",
        "                    partial_y_train,\n",
        "                    epochs=20,\n",
        "                    batch_size=512,\n",
        "                    validation_data=(x_val, y_val))"
      ],
      "execution_count": 49,
      "outputs": [
        {
          "output_type": "stream",
          "name": "stdout",
          "text": [
            "Epoch 1/20\n",
            "16/16 [==============================] - 1s 45ms/step - loss: 2.8915 - acc: 0.5137 - val_loss: 1.8884 - val_acc: 0.6390\n",
            "Epoch 2/20\n",
            "16/16 [==============================] - 1s 35ms/step - loss: 1.5164 - acc: 0.7012 - val_loss: 1.3644 - val_acc: 0.7040\n",
            "Epoch 3/20\n",
            "16/16 [==============================] - 1s 36ms/step - loss: 1.0947 - acc: 0.7777 - val_loss: 1.1861 - val_acc: 0.7360\n",
            "Epoch 4/20\n",
            "16/16 [==============================] - 1s 35ms/step - loss: 0.8648 - acc: 0.8176 - val_loss: 1.0709 - val_acc: 0.7730\n",
            "Epoch 5/20\n",
            "16/16 [==============================] - 1s 34ms/step - loss: 0.6892 - acc: 0.8514 - val_loss: 1.0076 - val_acc: 0.7900\n",
            "Epoch 6/20\n",
            "16/16 [==============================] - 1s 35ms/step - loss: 0.5577 - acc: 0.8772 - val_loss: 0.9586 - val_acc: 0.7970\n",
            "Epoch 7/20\n",
            "16/16 [==============================] - 1s 34ms/step - loss: 0.4490 - acc: 0.9060 - val_loss: 0.9253 - val_acc: 0.8130\n",
            "Epoch 8/20\n",
            "16/16 [==============================] - 1s 34ms/step - loss: 0.3653 - acc: 0.9246 - val_loss: 0.9118 - val_acc: 0.8110\n",
            "Epoch 9/20\n",
            "16/16 [==============================] - 1s 34ms/step - loss: 0.3020 - acc: 0.9342 - val_loss: 0.9036 - val_acc: 0.8190\n",
            "Epoch 10/20\n",
            "16/16 [==============================] - 1s 34ms/step - loss: 0.2537 - acc: 0.9434 - val_loss: 0.9295 - val_acc: 0.8160\n",
            "Epoch 11/20\n",
            "16/16 [==============================] - 1s 34ms/step - loss: 0.2194 - acc: 0.9464 - val_loss: 0.9129 - val_acc: 0.8220\n",
            "Epoch 12/20\n",
            "16/16 [==============================] - 1s 34ms/step - loss: 0.1882 - acc: 0.9528 - val_loss: 0.9334 - val_acc: 0.8220\n",
            "Epoch 13/20\n",
            "16/16 [==============================] - 1s 34ms/step - loss: 0.1728 - acc: 0.9521 - val_loss: 1.0147 - val_acc: 0.7930\n",
            "Epoch 14/20\n",
            "16/16 [==============================] - 1s 33ms/step - loss: 0.1551 - acc: 0.9529 - val_loss: 1.0139 - val_acc: 0.8000\n",
            "Epoch 15/20\n",
            "16/16 [==============================] - 1s 34ms/step - loss: 0.1462 - acc: 0.9548 - val_loss: 0.9771 - val_acc: 0.8240\n",
            "Epoch 16/20\n",
            "16/16 [==============================] - 1s 34ms/step - loss: 0.1367 - acc: 0.9568 - val_loss: 0.9875 - val_acc: 0.8210\n",
            "Epoch 17/20\n",
            "16/16 [==============================] - 1s 35ms/step - loss: 0.1271 - acc: 0.9570 - val_loss: 0.9825 - val_acc: 0.8260\n",
            "Epoch 18/20\n",
            "16/16 [==============================] - 1s 33ms/step - loss: 0.1220 - acc: 0.9573 - val_loss: 1.0439 - val_acc: 0.8150\n",
            "Epoch 19/20\n",
            "16/16 [==============================] - 1s 34ms/step - loss: 0.1178 - acc: 0.9560 - val_loss: 1.0726 - val_acc: 0.8000\n",
            "Epoch 20/20\n",
            "16/16 [==============================] - 1s 34ms/step - loss: 0.1117 - acc: 0.9587 - val_loss: 1.0630 - val_acc: 0.8100\n"
          ]
        }
      ]
    },
    {
      "cell_type": "code",
      "metadata": {
        "id": "nFF2y9fWam_-"
      },
      "source": [
        ""
      ],
      "execution_count": 49,
      "outputs": []
    }
  ]
}