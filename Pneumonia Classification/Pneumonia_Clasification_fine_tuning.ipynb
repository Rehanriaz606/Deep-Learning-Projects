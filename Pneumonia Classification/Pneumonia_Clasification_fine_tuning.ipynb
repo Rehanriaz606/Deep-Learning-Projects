{
  "nbformat": 4,
  "nbformat_minor": 0,
  "metadata": {
    "colab": {
      "name": "Pneumonia_Clasification_fine_tuning.ipynb",
      "provenance": []
    },
    "kernelspec": {
      "name": "python3",
      "display_name": "Python 3"
    },
    "language_info": {
      "name": "python"
    },
    "accelerator": "GPU"
  },
  "cells": [
    {
      "cell_type": "code",
      "metadata": {
        "id": "i3Dw0su6HXoY"
      },
      "source": [
        "import tensorflow as tf"
      ],
      "execution_count": 14,
      "outputs": []
    },
    {
      "cell_type": "code",
      "metadata": {
        "colab": {
          "base_uri": "https://localhost:8080/"
        },
        "id": "i9VL2wz7Hs5w",
        "outputId": "04d940f9-ef50-4217-c4bb-5851bb4f7baa"
      },
      "source": [
        "from google.colab import drive\n",
        "drive.mount('/content/drive')\n"
      ],
      "execution_count": 15,
      "outputs": [
        {
          "output_type": "stream",
          "name": "stdout",
          "text": [
            "Drive already mounted at /content/drive; to attempt to forcibly remount, call drive.mount(\"/content/drive\", force_remount=True).\n"
          ]
        }
      ]
    },
    {
      "cell_type": "code",
      "metadata": {
        "id": "0bS71fvtJDHa"
      },
      "source": [
        "import tensorflow\n",
        "from tensorflow.keras.applications import VGG16\n",
        "conv_base = VGG16(weights='imagenet',\n",
        "include_top=False,\n",
        "input_shape=(150, 150, 3))"
      ],
      "execution_count": 16,
      "outputs": []
    },
    {
      "cell_type": "code",
      "metadata": {
        "id": "henoiiqCJGoC"
      },
      "source": [
        "from tensorflow.keras import layers\n",
        "from tensorflow.keras import models\n",
        "model = models.Sequential()\n",
        "model.add(conv_base)\n",
        "model.add(layers.Flatten())\n",
        "model.add(layers.Dense(256, activation='relu'))\n",
        "model.add(layers.Dense(1, activation='sigmoid'))"
      ],
      "execution_count": 17,
      "outputs": []
    },
    {
      "cell_type": "code",
      "metadata": {
        "id": "-5iugvPFKJ6w"
      },
      "source": [
        "conv_base.trainable = True\n",
        "set_trainable = False\n",
        "for layer in conv_base.layers:\n",
        "  if layer.name == 'block5_conv1':\n",
        "    set_trainable = True\n",
        "  if set_trainable:\n",
        "    layer.trainable = True\n",
        "  else:\n",
        "    layer.trainable = False"
      ],
      "execution_count": 18,
      "outputs": []
    },
    {
      "cell_type": "code",
      "metadata": {
        "id": "RH0NHmBdJPzB"
      },
      "source": [
        "opt = tensorflow.keras.optimizers.RMSprop\n",
        "model.compile(loss='binary_crossentropy',\n",
        "optimizer=opt(learning_rate=2e-5),\n",
        "metrics=['acc'])"
      ],
      "execution_count": 19,
      "outputs": []
    },
    {
      "cell_type": "code",
      "metadata": {
        "id": "8sfEWhsvJSIP"
      },
      "source": [
        "train_dir = '/content/drive/MyDrive/Pnuemonia/train'\n",
        "validation_dir= '/content/drive/MyDrive/Pnuemonia/val' \n",
        "test_dir= '/content/drive/MyDrive/Pnuemonia/test'"
      ],
      "execution_count": 20,
      "outputs": []
    },
    {
      "cell_type": "code",
      "metadata": {
        "id": "QRN4ageMJUZt"
      },
      "source": [
        "from keras.preprocessing.image import ImageDataGenerator"
      ],
      "execution_count": 21,
      "outputs": []
    },
    {
      "cell_type": "code",
      "metadata": {
        "id": "2LHwTMTzJXJw"
      },
      "source": [
        "train_datagen = ImageDataGenerator(rescale=1./255,rotation_range=40,width_shift_range=0.2,height_shift_range=0.2,shear_range=0.2,zoom_range=0.2,horizontal_flip=True,)\n",
        "validation_datagen = ImageDataGenerator(rescale=1./255)\n",
        "test_datagen = ImageDataGenerator(rescale=1./255)"
      ],
      "execution_count": 22,
      "outputs": []
    },
    {
      "cell_type": "code",
      "metadata": {
        "colab": {
          "base_uri": "https://localhost:8080/"
        },
        "id": "jppQ8DEgJaaT",
        "outputId": "8f1b35e4-6bda-4bb6-8c0f-a7ae63f8349c"
      },
      "source": [
        "train_generator = train_datagen.flow_from_directory(\n",
        "train_dir,\n",
        "target_size=(150, 150),\n",
        "batch_size=20,\n",
        "class_mode='binary')"
      ],
      "execution_count": 23,
      "outputs": [
        {
          "output_type": "stream",
          "name": "stdout",
          "text": [
            "Found 2673 images belonging to 2 classes.\n"
          ]
        }
      ]
    },
    {
      "cell_type": "code",
      "metadata": {
        "colab": {
          "base_uri": "https://localhost:8080/"
        },
        "id": "d8Ps5-8tJcxv",
        "outputId": "bf5214ed-74cd-4867-b672-a416795e9b77"
      },
      "source": [
        "train_generator = train_datagen.flow_from_directory(\n",
        "train_dir,\n",
        "target_size=(150, 150),\n",
        "batch_size=20,\n",
        "class_mode='binary')"
      ],
      "execution_count": 24,
      "outputs": [
        {
          "output_type": "stream",
          "name": "stdout",
          "text": [
            "Found 2673 images belonging to 2 classes.\n"
          ]
        }
      ]
    },
    {
      "cell_type": "code",
      "metadata": {
        "colab": {
          "base_uri": "https://localhost:8080/"
        },
        "id": "T1-wfmSCJluj",
        "outputId": "bbbac569-b3ba-4c5d-db98-cc85cb98db0a"
      },
      "source": [
        "validation_generator = validation_datagen.flow_from_directory(validation_dir,target_size=(150, 150),batch_size=20,class_mode='binary')"
      ],
      "execution_count": 25,
      "outputs": [
        {
          "output_type": "stream",
          "name": "stdout",
          "text": [
            "Found 168 images belonging to 2 classes.\n"
          ]
        }
      ]
    },
    {
      "cell_type": "code",
      "metadata": {
        "colab": {
          "base_uri": "https://localhost:8080/"
        },
        "id": "W-riSJrqJpzY",
        "outputId": "718bbeac-b6f7-4812-c02a-04196db970ea"
      },
      "source": [
        "test_generator = test_datagen.flow_from_directory(test_dir,target_size=(150,150),batch_size=20,class_mode='binary')"
      ],
      "execution_count": 26,
      "outputs": [
        {
          "output_type": "stream",
          "name": "stdout",
          "text": [
            "Found 624 images belonging to 2 classes.\n"
          ]
        }
      ]
    },
    {
      "cell_type": "code",
      "metadata": {
        "colab": {
          "base_uri": "https://localhost:8080/"
        },
        "id": "TtCYW7xZJtfS",
        "outputId": "0dc8e635-ec69-4d10-d0c3-d97f13df671e"
      },
      "source": [
        "history = model.fit_generator(\n",
        "train_generator,\n",
        "steps_per_epoch=40,\n",
        "epochs=30,\n",
        "validation_data=validation_generator,\n",
        "validation_steps=1)"
      ],
      "execution_count": 27,
      "outputs": [
        {
          "output_type": "stream",
          "name": "stderr",
          "text": [
            "/usr/local/lib/python3.7/dist-packages/keras/engine/training.py:1972: UserWarning: `Model.fit_generator` is deprecated and will be removed in a future version. Please use `Model.fit`, which supports generators.\n",
            "  warnings.warn('`Model.fit_generator` is deprecated and '\n"
          ]
        },
        {
          "output_type": "stream",
          "name": "stdout",
          "text": [
            "Epoch 1/30\n",
            "40/40 [==============================] - 192s 4s/step - loss: 0.3914 - acc: 0.8436 - val_loss: 0.3772 - val_acc: 0.8000\n",
            "Epoch 2/30\n",
            "40/40 [==============================] - 114s 3s/step - loss: 0.2666 - acc: 0.8875 - val_loss: 0.0573 - val_acc: 1.0000\n",
            "Epoch 3/30\n",
            "40/40 [==============================] - 93s 2s/step - loss: 0.1956 - acc: 0.9262 - val_loss: 0.0519 - val_acc: 1.0000\n",
            "Epoch 4/30\n",
            "40/40 [==============================] - 67s 2s/step - loss: 0.2020 - acc: 0.9225 - val_loss: 0.1098 - val_acc: 0.9500\n",
            "Epoch 5/30\n",
            "40/40 [==============================] - 50s 1s/step - loss: 0.1655 - acc: 0.9420 - val_loss: 0.0080 - val_acc: 1.0000\n",
            "Epoch 6/30\n",
            "40/40 [==============================] - 43s 1s/step - loss: 0.1999 - acc: 0.9344 - val_loss: 0.2471 - val_acc: 0.9000\n",
            "Epoch 7/30\n",
            "40/40 [==============================] - 36s 896ms/step - loss: 0.2092 - acc: 0.9212 - val_loss: 0.3215 - val_acc: 0.9000\n",
            "Epoch 8/30\n",
            "40/40 [==============================] - 33s 823ms/step - loss: 0.1932 - acc: 0.9275 - val_loss: 0.0149 - val_acc: 1.0000\n",
            "Epoch 9/30\n",
            "40/40 [==============================] - 28s 710ms/step - loss: 0.1462 - acc: 0.9425 - val_loss: 0.4465 - val_acc: 0.8500\n",
            "Epoch 10/30\n",
            "40/40 [==============================] - 27s 669ms/step - loss: 0.1464 - acc: 0.9475 - val_loss: 0.4196 - val_acc: 0.9000\n",
            "Epoch 11/30\n",
            "40/40 [==============================] - 22s 555ms/step - loss: 0.1813 - acc: 0.9395 - val_loss: 0.3368 - val_acc: 0.8500\n",
            "Epoch 12/30\n",
            "40/40 [==============================] - 22s 541ms/step - loss: 0.1866 - acc: 0.9281 - val_loss: 0.0192 - val_acc: 1.0000\n",
            "Epoch 13/30\n",
            "40/40 [==============================] - 24s 600ms/step - loss: 0.1141 - acc: 0.9625 - val_loss: 0.1023 - val_acc: 0.9500\n",
            "Epoch 14/30\n",
            "40/40 [==============================] - 22s 538ms/step - loss: 0.1334 - acc: 0.9550 - val_loss: 0.1998 - val_acc: 0.9000\n",
            "Epoch 15/30\n",
            "40/40 [==============================] - 21s 534ms/step - loss: 0.1458 - acc: 0.9425 - val_loss: 0.0421 - val_acc: 1.0000\n",
            "Epoch 16/30\n",
            "40/40 [==============================] - 20s 507ms/step - loss: 0.1041 - acc: 0.9688 - val_loss: 0.3462 - val_acc: 0.8500\n",
            "Epoch 17/30\n",
            "40/40 [==============================] - 19s 481ms/step - loss: 0.1547 - acc: 0.9508 - val_loss: 0.0155 - val_acc: 1.0000\n",
            "Epoch 18/30\n",
            "40/40 [==============================] - 20s 489ms/step - loss: 0.1225 - acc: 0.9600 - val_loss: 0.2449 - val_acc: 0.9000\n",
            "Epoch 19/30\n",
            "40/40 [==============================] - 19s 470ms/step - loss: 0.0987 - acc: 0.9697 - val_loss: 0.3710 - val_acc: 0.9500\n",
            "Epoch 20/30\n",
            "40/40 [==============================] - 20s 496ms/step - loss: 0.1450 - acc: 0.9500 - val_loss: 0.0649 - val_acc: 1.0000\n",
            "Epoch 21/30\n",
            "40/40 [==============================] - 19s 476ms/step - loss: 0.1238 - acc: 0.9550 - val_loss: 0.0567 - val_acc: 1.0000\n",
            "Epoch 22/30\n",
            "40/40 [==============================] - 19s 483ms/step - loss: 0.1187 - acc: 0.9563 - val_loss: 0.3528 - val_acc: 0.9000\n",
            "Epoch 23/30\n",
            "40/40 [==============================] - 19s 480ms/step - loss: 0.1251 - acc: 0.9470 - val_loss: 0.0663 - val_acc: 0.9500\n",
            "Epoch 24/30\n",
            "40/40 [==============================] - 19s 473ms/step - loss: 0.1023 - acc: 0.9496 - val_loss: 0.0483 - val_acc: 1.0000\n",
            "Epoch 25/30\n",
            "40/40 [==============================] - 19s 474ms/step - loss: 0.1177 - acc: 0.9634 - val_loss: 0.0305 - val_acc: 1.0000\n",
            "Epoch 26/30\n",
            "40/40 [==============================] - 20s 496ms/step - loss: 0.1136 - acc: 0.9609 - val_loss: 0.0478 - val_acc: 1.0000\n",
            "Epoch 27/30\n",
            "40/40 [==============================] - 19s 480ms/step - loss: 0.1047 - acc: 0.9663 - val_loss: 0.0095 - val_acc: 1.0000\n",
            "Epoch 28/30\n",
            "40/40 [==============================] - 20s 488ms/step - loss: 0.1351 - acc: 0.9563 - val_loss: 0.0878 - val_acc: 0.9500\n",
            "Epoch 29/30\n",
            "40/40 [==============================] - 19s 475ms/step - loss: 0.0950 - acc: 0.9675 - val_loss: 0.0446 - val_acc: 1.0000\n",
            "Epoch 30/30\n",
            "40/40 [==============================] - 19s 478ms/step - loss: 0.1080 - acc: 0.9609 - val_loss: 0.0245 - val_acc: 1.0000\n"
          ]
        }
      ]
    },
    {
      "cell_type": "code",
      "metadata": {
        "colab": {
          "base_uri": "https://localhost:8080/"
        },
        "id": "ELEgOji8QZmE",
        "outputId": "10b82816-d117-456b-db5e-f1577c77b911"
      },
      "source": [
        "model.evaluate(test_generator)"
      ],
      "execution_count": 29,
      "outputs": [
        {
          "output_type": "stream",
          "name": "stdout",
          "text": [
            "32/32 [==============================] - 111s 4s/step - loss: 0.2313 - acc: 0.9135\n"
          ]
        },
        {
          "output_type": "execute_result",
          "data": {
            "text/plain": [
              "[0.2312624752521515, 0.9134615659713745]"
            ]
          },
          "metadata": {},
          "execution_count": 29
        }
      ]
    },
    {
      "cell_type": "code",
      "metadata": {
        "colab": {
          "base_uri": "https://localhost:8080/"
        },
        "id": "inMSKAWzQkxt",
        "outputId": "ae02a689-98bd-42e0-af73-8004d741baff"
      },
      "source": [
        "train_generator.class_indices"
      ],
      "execution_count": 31,
      "outputs": [
        {
          "output_type": "execute_result",
          "data": {
            "text/plain": [
              "{'NORMAL': 0, 'PNEUMONIA': 1}"
            ]
          },
          "metadata": {},
          "execution_count": 31
        }
      ]
    },
    {
      "cell_type": "code",
      "metadata": {
        "id": "tRxvW7gtR0FF"
      },
      "source": [
        "ab= \"/content/IM-0003-0001.jpeg\""
      ],
      "execution_count": 33,
      "outputs": []
    },
    {
      "cell_type": "code",
      "metadata": {
        "colab": {
          "base_uri": "https://localhost:8080/",
          "height": 35
        },
        "id": "v0t5oUOhSmbP",
        "outputId": "bea55fe0-95fd-4a17-87c4-77e4dc30788e"
      },
      "source": [
        "ab"
      ],
      "execution_count": 34,
      "outputs": [
        {
          "output_type": "execute_result",
          "data": {
            "application/vnd.google.colaboratory.intrinsic+json": {
              "type": "string"
            },
            "text/plain": [
              "'/content/IM-0003-0001.jpeg'"
            ]
          },
          "metadata": {},
          "execution_count": 34
        }
      ]
    },
    {
      "cell_type": "code",
      "metadata": {
        "id": "Clr4r2v-TktS"
      },
      "source": [
        "import numpy as np"
      ],
      "execution_count": 35,
      "outputs": []
    },
    {
      "cell_type": "code",
      "metadata": {
        "id": "5GxJ7mNaSpv5"
      },
      "source": [
        "from keras.preprocessing.image import  load_img,img_to_array\n",
        "img=load_img(ab,target_size=(150,150))\n",
        "arr=img_to_array(img)/255\n",
        "dim=np.expand_dims(arr,axis=0)\n"
      ],
      "execution_count": 36,
      "outputs": []
    },
    {
      "cell_type": "code",
      "metadata": {
        "colab": {
          "base_uri": "https://localhost:8080/"
        },
        "id": "fgSn5qDFVX8J",
        "outputId": "dce5325b-12eb-410a-9b09-db6854fd69f4"
      },
      "source": [
        "dim.shape"
      ],
      "execution_count": 42,
      "outputs": [
        {
          "output_type": "execute_result",
          "data": {
            "text/plain": [
              "(1, 150, 150, 3)"
            ]
          },
          "metadata": {},
          "execution_count": 42
        }
      ]
    },
    {
      "cell_type": "code",
      "metadata": {
        "id": "pb7fse35TubD"
      },
      "source": [
        "pacc = model.predict(dim)\n",
        "classes_x=np.argmax(pacc,axis=1)\n"
      ],
      "execution_count": 40,
      "outputs": []
    },
    {
      "cell_type": "code",
      "metadata": {
        "colab": {
          "base_uri": "https://localhost:8080/"
        },
        "id": "Ed6Q4qZmVyMi",
        "outputId": "f3c7a7a6-964c-462d-a085-7d610c75c886"
      },
      "source": [
        "pacc"
      ],
      "execution_count": 43,
      "outputs": [
        {
          "output_type": "execute_result",
          "data": {
            "text/plain": [
              "array([[0.00047912]], dtype=float32)"
            ]
          },
          "metadata": {},
          "execution_count": 43
        }
      ]
    },
    {
      "cell_type": "code",
      "metadata": {
        "colab": {
          "base_uri": "https://localhost:8080/"
        },
        "id": "m5BGKgCxT6-u",
        "outputId": "562b6aca-b919-4c26-c0df-9ab19e78c4bb"
      },
      "source": [
        "classes_x"
      ],
      "execution_count": 41,
      "outputs": [
        {
          "output_type": "execute_result",
          "data": {
            "text/plain": [
              "array([0])"
            ]
          },
          "metadata": {},
          "execution_count": 41
        }
      ]
    },
    {
      "cell_type": "code",
      "metadata": {
        "id": "opi2yfPtVEKb"
      },
      "source": [
        ""
      ],
      "execution_count": null,
      "outputs": []
    }
  ]
}