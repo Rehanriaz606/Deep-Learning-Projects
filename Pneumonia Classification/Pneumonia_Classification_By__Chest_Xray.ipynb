{
  "nbformat": 4,
  "nbformat_minor": 0,
  "metadata": {
    "colab": {
      "name": "Pneumonia_Classification_By _Chest_Xray",
      "provenance": []
    },
    "kernelspec": {
      "name": "python3",
      "display_name": "Python 3"
    },
    "language_info": {
      "name": "python"
    },
    "accelerator": "GPU"
  },
  "cells": [
    {
      "cell_type": "code",
      "metadata": {
        "id": "nzXhYHt1pmvs"
      },
      "source": [
        "import tensorflow as tf"
      ],
      "execution_count": null,
      "outputs": []
    },
    {
      "cell_type": "code",
      "metadata": {
        "id": "_KWDS5JZqIPl"
      },
      "source": [
        ""
      ],
      "execution_count": null,
      "outputs": []
    },
    {
      "cell_type": "code",
      "metadata": {
        "colab": {
          "base_uri": "https://localhost:8080/"
        },
        "id": "SXiRAKFDqWyC",
        "outputId": "c3069482-54e3-481c-e30b-9a6766e9ab1d"
      },
      "source": [
        "from google.colab import drive\n",
        "drive.mount('/content/drive')\n"
      ],
      "execution_count": null,
      "outputs": [
        {
          "output_type": "stream",
          "name": "stdout",
          "text": [
            "Drive already mounted at /content/drive; to attempt to forcibly remount, call drive.mount(\"/content/drive\", force_remount=True).\n"
          ]
        }
      ]
    },
    {
      "cell_type": "code",
      "metadata": {
        "colab": {
          "base_uri": "https://localhost:8080/"
        },
        "id": "zOxYR5jGqYZp",
        "outputId": "6fe67dd7-1eed-43b9-c684-9e239581d7c8"
      },
      "source": [
        "import tensorflow\n",
        "from tensorflow.keras.applications import VGG16\n",
        "conv_base = VGG16(weights='imagenet',\n",
        "include_top=False,\n",
        "input_shape=(150, 150, 3))"
      ],
      "execution_count": null,
      "outputs": [
        {
          "output_type": "stream",
          "name": "stdout",
          "text": [
            "Downloading data from https://storage.googleapis.com/tensorflow/keras-applications/vgg16/vgg16_weights_tf_dim_ordering_tf_kernels_notop.h5\n",
            "58892288/58889256 [==============================] - 1s 0us/step\n",
            "58900480/58889256 [==============================] - 1s 0us/step\n"
          ]
        }
      ]
    },
    {
      "cell_type": "code",
      "metadata": {
        "id": "dhbCAfjiBf12"
      },
      "source": [
        "from tensorflow.keras import layers\n",
        "\n",
        "from tensorflow.keras import models\n",
        "model = models.Sequential()\n",
        "model.add(conv_base)\n",
        "model.add(layers.Flatten())\n",
        "model.add(layers.Dense(256, activation='relu'))\n",
        "model.add(layers.Dense(1, activation='sigmoid'))"
      ],
      "execution_count": null,
      "outputs": []
    },
    {
      "cell_type": "code",
      "metadata": {
        "id": "0Y0_PdBxBrGA"
      },
      "source": [
        "opt = tensorflow.keras.optimizers.RMSprop\n",
        "model.compile(loss='binary_crossentropy',\n",
        "optimizer=opt(learning_rate=2e-5),\n",
        "metrics=['acc'])"
      ],
      "execution_count": null,
      "outputs": []
    },
    {
      "cell_type": "code",
      "metadata": {
        "id": "7Ha66ndXBu7P"
      },
      "source": [
        "train_dir = '/content/drive/MyDrive/Pnuemonia/train'\n",
        "validation_dir= '/content/drive/MyDrive/Pnuemonia/val' \n",
        "test_dir= '/content/drive/MyDrive/Pnuemonia/test'"
      ],
      "execution_count": null,
      "outputs": []
    },
    {
      "cell_type": "code",
      "metadata": {
        "id": "bxPqozPdB-Fo"
      },
      "source": [
        "from keras.preprocessing.image import ImageDataGenerator"
      ],
      "execution_count": null,
      "outputs": []
    },
    {
      "cell_type": "code",
      "metadata": {
        "id": "Y78LmzEuCCKg"
      },
      "source": [
        "train_datagen = ImageDataGenerator(rescale=1./255,rotation_range=40,width_shift_range=0.2,height_shift_range=0.2,shear_range=0.2,zoom_range=0.2,horizontal_flip=True,)\n",
        "validation_datagen = ImageDataGenerator(rescale=1./255)\n",
        "test_datagen = ImageDataGenerator(rescale=1./255)"
      ],
      "execution_count": null,
      "outputs": []
    },
    {
      "cell_type": "code",
      "metadata": {
        "colab": {
          "base_uri": "https://localhost:8080/"
        },
        "id": "aQ07n61sCJGg",
        "outputId": "ded02a6f-8c37-41bb-cb15-87fa1b11e8cb"
      },
      "source": [
        "train_generator = train_datagen.flow_from_directory(\n",
        "train_dir,\n",
        "target_size=(150, 150),\n",
        "batch_size=20,\n",
        "class_mode='binary')"
      ],
      "execution_count": null,
      "outputs": [
        {
          "output_type": "stream",
          "name": "stdout",
          "text": [
            "Found 2673 images belonging to 2 classes.\n"
          ]
        }
      ]
    },
    {
      "cell_type": "code",
      "metadata": {
        "colab": {
          "base_uri": "https://localhost:8080/"
        },
        "id": "fnJasuODCg45",
        "outputId": "2d159f1d-55d2-4529-9d35-5a3c7b1667c5"
      },
      "source": [
        "validation_generator = validation_datagen.flow_from_directory(validation_dir,target_size=(150, 150),batch_size=20,class_mode='binary')"
      ],
      "execution_count": null,
      "outputs": [
        {
          "output_type": "stream",
          "name": "stdout",
          "text": [
            "Found 168 images belonging to 2 classes.\n"
          ]
        }
      ]
    },
    {
      "cell_type": "code",
      "metadata": {
        "colab": {
          "base_uri": "https://localhost:8080/"
        },
        "id": "tK4luy_FCl8r",
        "outputId": "ef5b12b9-2991-401b-81a4-e6f9aa975aef"
      },
      "source": [
        "test_generator = test_datagen.flow_from_directory(test_dir,target_size=(150,150),batch_size=20,class_mode='binary')"
      ],
      "execution_count": null,
      "outputs": [
        {
          "output_type": "stream",
          "name": "stdout",
          "text": [
            "Found 624 images belonging to 2 classes.\n"
          ]
        }
      ]
    },
    {
      "cell_type": "code",
      "metadata": {
        "colab": {
          "base_uri": "https://localhost:8080/"
        },
        "id": "0keqQB-SDNRH",
        "outputId": "47e8f498-59fa-4be8-fcf7-bf4deeb46459"
      },
      "source": [
        "history = model.fit_generator(\n",
        "train_generator,\n",
        "steps_per_epoch=40,\n",
        "epochs=30,\n",
        "validation_data=validation_generator,\n",
        "validation_steps=1)"
      ],
      "execution_count": null,
      "outputs": [
        {
          "output_type": "stream",
          "name": "stderr",
          "text": [
            "/usr/local/lib/python3.7/dist-packages/keras/engine/training.py:1972: UserWarning: `Model.fit_generator` is deprecated and will be removed in a future version. Please use `Model.fit`, which supports generators.\n",
            "  warnings.warn('`Model.fit_generator` is deprecated and '\n"
          ]
        },
        {
          "output_type": "stream",
          "name": "stdout",
          "text": [
            "Epoch 1/30\n",
            "40/40 [==============================] - 189s 4s/step - loss: 0.5012 - acc: 0.7528 - val_loss: 0.2100 - val_acc: 0.9500\n",
            "Epoch 2/30\n",
            "40/40 [==============================] - 116s 3s/step - loss: 0.2660 - acc: 0.9062 - val_loss: 0.0870 - val_acc: 1.0000\n",
            "Epoch 3/30\n",
            "40/40 [==============================] - 93s 2s/step - loss: 0.2812 - acc: 0.8875 - val_loss: 0.1664 - val_acc: 0.9000\n",
            "Epoch 4/30\n",
            "40/40 [==============================] - 62s 2s/step - loss: 0.2293 - acc: 0.9187 - val_loss: 0.2488 - val_acc: 0.9500\n",
            "Epoch 5/30\n",
            "40/40 [==============================] - 54s 1s/step - loss: 0.1608 - acc: 0.9445 - val_loss: 0.4826 - val_acc: 0.9000\n",
            "Epoch 6/30\n",
            "40/40 [==============================] - 45s 1s/step - loss: 0.2033 - acc: 0.9256 - val_loss: 0.0889 - val_acc: 0.9500\n",
            "Epoch 7/30\n",
            "40/40 [==============================] - 37s 921ms/step - loss: 0.1864 - acc: 0.9337 - val_loss: 0.1752 - val_acc: 0.9500\n",
            "Epoch 8/30\n",
            "40/40 [==============================] - 33s 830ms/step - loss: 0.1782 - acc: 0.9458 - val_loss: 0.1867 - val_acc: 0.9000\n",
            "Epoch 9/30\n",
            "40/40 [==============================] - 32s 798ms/step - loss: 0.1333 - acc: 0.9488 - val_loss: 0.0139 - val_acc: 1.0000\n",
            "Epoch 10/30\n",
            "40/40 [==============================] - 30s 747ms/step - loss: 0.1393 - acc: 0.9525 - val_loss: 0.0521 - val_acc: 0.9500\n",
            "Epoch 11/30\n",
            "40/40 [==============================] - 26s 657ms/step - loss: 0.1461 - acc: 0.9458 - val_loss: 0.9784 - val_acc: 0.6500\n",
            "Epoch 12/30\n",
            "40/40 [==============================] - 26s 635ms/step - loss: 0.1674 - acc: 0.9463 - val_loss: 0.1619 - val_acc: 0.9500\n",
            "Epoch 13/30\n",
            "40/40 [==============================] - 25s 629ms/step - loss: 0.1240 - acc: 0.9513 - val_loss: 0.0322 - val_acc: 1.0000\n",
            "Epoch 14/30\n",
            "40/40 [==============================] - 24s 598ms/step - loss: 0.0990 - acc: 0.9634 - val_loss: 0.3291 - val_acc: 0.9000\n",
            "Epoch 15/30\n",
            "40/40 [==============================] - 25s 615ms/step - loss: 0.1424 - acc: 0.9513 - val_loss: 0.0670 - val_acc: 0.9500\n",
            "Epoch 16/30\n",
            "40/40 [==============================] - 24s 585ms/step - loss: 0.1043 - acc: 0.9685 - val_loss: 0.0225 - val_acc: 1.0000\n",
            "Epoch 17/30\n",
            "40/40 [==============================] - 24s 589ms/step - loss: 0.1011 - acc: 0.9622 - val_loss: 0.4041 - val_acc: 0.9500\n",
            "Epoch 18/30\n",
            "40/40 [==============================] - 24s 595ms/step - loss: 0.1283 - acc: 0.9571 - val_loss: 0.0092 - val_acc: 1.0000\n",
            "Epoch 19/30\n",
            "40/40 [==============================] - 23s 579ms/step - loss: 0.0998 - acc: 0.9660 - val_loss: 0.3238 - val_acc: 0.9500\n",
            "Epoch 20/30\n",
            "40/40 [==============================] - 23s 568ms/step - loss: 0.1327 - acc: 0.9550 - val_loss: 0.1541 - val_acc: 0.9500\n",
            "Epoch 21/30\n",
            "40/40 [==============================] - 24s 585ms/step - loss: 0.1099 - acc: 0.9600 - val_loss: 0.0525 - val_acc: 0.9500\n",
            "Epoch 22/30\n",
            "40/40 [==============================] - 23s 576ms/step - loss: 0.0880 - acc: 0.9600 - val_loss: 0.5728 - val_acc: 0.8000\n",
            "Epoch 23/30\n",
            "40/40 [==============================] - 23s 580ms/step - loss: 0.0736 - acc: 0.9712 - val_loss: 0.0679 - val_acc: 0.9500\n",
            "Epoch 24/30\n",
            "40/40 [==============================] - 23s 569ms/step - loss: 0.1218 - acc: 0.9563 - val_loss: 0.1969 - val_acc: 0.9000\n",
            "Epoch 25/30\n",
            "40/40 [==============================] - 23s 566ms/step - loss: 0.1141 - acc: 0.9584 - val_loss: 0.0554 - val_acc: 0.9500\n",
            "Epoch 26/30\n",
            "40/40 [==============================] - 23s 560ms/step - loss: 0.0540 - acc: 0.9787 - val_loss: 0.0179 - val_acc: 1.0000\n",
            "Epoch 27/30\n",
            "40/40 [==============================] - 23s 569ms/step - loss: 0.1248 - acc: 0.9596 - val_loss: 0.3281 - val_acc: 0.9000\n",
            "Epoch 28/30\n",
            "40/40 [==============================] - 23s 574ms/step - loss: 0.0727 - acc: 0.9725 - val_loss: 0.2131 - val_acc: 0.9500\n",
            "Epoch 29/30\n",
            "40/40 [==============================] - 23s 577ms/step - loss: 0.0934 - acc: 0.9600 - val_loss: 0.0044 - val_acc: 1.0000\n",
            "Epoch 30/30\n",
            "40/40 [==============================] - 23s 571ms/step - loss: 0.1003 - acc: 0.9647 - val_loss: 0.2167 - val_acc: 0.9500\n"
          ]
        }
      ]
    },
    {
      "cell_type": "code",
      "metadata": {
        "colab": {
          "base_uri": "https://localhost:8080/"
        },
        "id": "I-1x1iaxDQGq",
        "outputId": "095690d3-7a85-4140-de44-9a748ab000a5"
      },
      "source": [
        "model.evaluate(test_generator)"
      ],
      "execution_count": null,
      "outputs": [
        {
          "output_type": "stream",
          "name": "stdout",
          "text": [
            "32/32 [==============================] - 108s 3s/step - loss: 0.2344 - acc: 0.9151\n"
          ]
        }
      ]
    }
  ]
}