{
  "nbformat": 4,
  "nbformat_minor": 0,
  "metadata": {
    "colab": {
      "name": "Wine Quality prediction.ipynb",
      "provenance": []
    },
    "kernelspec": {
      "name": "python3",
      "display_name": "Python 3"
    },
    "language_info": {
      "name": "python"
    }
  },
  "cells": [
    {
      "cell_type": "code",
      "metadata": {
        "id": "QR0IKEDF_cTy"
      },
      "source": [
        "import pandas as pd"
      ],
      "execution_count": 170,
      "outputs": []
    },
    {
      "cell_type": "code",
      "metadata": {
        "id": "NHzynpp9CQUF"
      },
      "source": [
        "data=pd.read_csv(\"/content/winequality-red.csv\")"
      ],
      "execution_count": 171,
      "outputs": []
    },
    {
      "cell_type": "code",
      "metadata": {
        "colab": {
          "base_uri": "https://localhost:8080/",
          "height": 206
        },
        "id": "kN5eOoviCzoo",
        "outputId": "11498108-c908-4fc1-a072-7fbca450d20f"
      },
      "source": [
        "data.head()"
      ],
      "execution_count": 172,
      "outputs": [
        {
          "output_type": "execute_result",
          "data": {
            "text/html": [
              "<div>\n",
              "<style scoped>\n",
              "    .dataframe tbody tr th:only-of-type {\n",
              "        vertical-align: middle;\n",
              "    }\n",
              "\n",
              "    .dataframe tbody tr th {\n",
              "        vertical-align: top;\n",
              "    }\n",
              "\n",
              "    .dataframe thead th {\n",
              "        text-align: right;\n",
              "    }\n",
              "</style>\n",
              "<table border=\"1\" class=\"dataframe\">\n",
              "  <thead>\n",
              "    <tr style=\"text-align: right;\">\n",
              "      <th></th>\n",
              "      <th>fixed acidity</th>\n",
              "      <th>volatile acidity</th>\n",
              "      <th>citric acid</th>\n",
              "      <th>residual sugar</th>\n",
              "      <th>chlorides</th>\n",
              "      <th>free sulfur dioxide</th>\n",
              "      <th>total sulfur dioxide</th>\n",
              "      <th>density</th>\n",
              "      <th>pH</th>\n",
              "      <th>sulphates</th>\n",
              "      <th>alcohol</th>\n",
              "      <th>quality</th>\n",
              "    </tr>\n",
              "  </thead>\n",
              "  <tbody>\n",
              "    <tr>\n",
              "      <th>0</th>\n",
              "      <td>7.4</td>\n",
              "      <td>0.70</td>\n",
              "      <td>0.00</td>\n",
              "      <td>1.9</td>\n",
              "      <td>0.076</td>\n",
              "      <td>11.0</td>\n",
              "      <td>34.0</td>\n",
              "      <td>0.9978</td>\n",
              "      <td>3.51</td>\n",
              "      <td>0.56</td>\n",
              "      <td>9.4</td>\n",
              "      <td>5</td>\n",
              "    </tr>\n",
              "    <tr>\n",
              "      <th>1</th>\n",
              "      <td>7.8</td>\n",
              "      <td>0.88</td>\n",
              "      <td>0.00</td>\n",
              "      <td>2.6</td>\n",
              "      <td>0.098</td>\n",
              "      <td>25.0</td>\n",
              "      <td>67.0</td>\n",
              "      <td>0.9968</td>\n",
              "      <td>3.20</td>\n",
              "      <td>0.68</td>\n",
              "      <td>9.8</td>\n",
              "      <td>5</td>\n",
              "    </tr>\n",
              "    <tr>\n",
              "      <th>2</th>\n",
              "      <td>7.8</td>\n",
              "      <td>0.76</td>\n",
              "      <td>0.04</td>\n",
              "      <td>2.3</td>\n",
              "      <td>0.092</td>\n",
              "      <td>15.0</td>\n",
              "      <td>54.0</td>\n",
              "      <td>0.9970</td>\n",
              "      <td>3.26</td>\n",
              "      <td>0.65</td>\n",
              "      <td>9.8</td>\n",
              "      <td>5</td>\n",
              "    </tr>\n",
              "    <tr>\n",
              "      <th>3</th>\n",
              "      <td>11.2</td>\n",
              "      <td>0.28</td>\n",
              "      <td>0.56</td>\n",
              "      <td>1.9</td>\n",
              "      <td>0.075</td>\n",
              "      <td>17.0</td>\n",
              "      <td>60.0</td>\n",
              "      <td>0.9980</td>\n",
              "      <td>3.16</td>\n",
              "      <td>0.58</td>\n",
              "      <td>9.8</td>\n",
              "      <td>6</td>\n",
              "    </tr>\n",
              "    <tr>\n",
              "      <th>4</th>\n",
              "      <td>7.4</td>\n",
              "      <td>0.70</td>\n",
              "      <td>0.00</td>\n",
              "      <td>1.9</td>\n",
              "      <td>0.076</td>\n",
              "      <td>11.0</td>\n",
              "      <td>34.0</td>\n",
              "      <td>0.9978</td>\n",
              "      <td>3.51</td>\n",
              "      <td>0.56</td>\n",
              "      <td>9.4</td>\n",
              "      <td>5</td>\n",
              "    </tr>\n",
              "  </tbody>\n",
              "</table>\n",
              "</div>"
            ],
            "text/plain": [
              "   fixed acidity  volatile acidity  citric acid  ...  sulphates  alcohol  quality\n",
              "0            7.4              0.70         0.00  ...       0.56      9.4        5\n",
              "1            7.8              0.88         0.00  ...       0.68      9.8        5\n",
              "2            7.8              0.76         0.04  ...       0.65      9.8        5\n",
              "3           11.2              0.28         0.56  ...       0.58      9.8        6\n",
              "4            7.4              0.70         0.00  ...       0.56      9.4        5\n",
              "\n",
              "[5 rows x 12 columns]"
            ]
          },
          "metadata": {},
          "execution_count": 172
        }
      ]
    },
    {
      "cell_type": "code",
      "metadata": {
        "colab": {
          "base_uri": "https://localhost:8080/"
        },
        "id": "AYbtuKPTC63i",
        "outputId": "2e6436d7-a9c6-4c99-9c2d-f82439e549a2"
      },
      "source": [
        "data.info()"
      ],
      "execution_count": 173,
      "outputs": [
        {
          "output_type": "stream",
          "name": "stdout",
          "text": [
            "<class 'pandas.core.frame.DataFrame'>\n",
            "RangeIndex: 1599 entries, 0 to 1598\n",
            "Data columns (total 12 columns):\n",
            " #   Column                Non-Null Count  Dtype  \n",
            "---  ------                --------------  -----  \n",
            " 0   fixed acidity         1599 non-null   float64\n",
            " 1   volatile acidity      1599 non-null   float64\n",
            " 2   citric acid           1599 non-null   float64\n",
            " 3   residual sugar        1599 non-null   float64\n",
            " 4   chlorides             1599 non-null   float64\n",
            " 5   free sulfur dioxide   1599 non-null   float64\n",
            " 6   total sulfur dioxide  1599 non-null   float64\n",
            " 7   density               1599 non-null   float64\n",
            " 8   pH                    1599 non-null   float64\n",
            " 9   sulphates             1599 non-null   float64\n",
            " 10  alcohol               1599 non-null   float64\n",
            " 11  quality               1599 non-null   int64  \n",
            "dtypes: float64(11), int64(1)\n",
            "memory usage: 150.0 KB\n"
          ]
        }
      ]
    },
    {
      "cell_type": "code",
      "metadata": {
        "id": "VFlePWI3C968"
      },
      "source": [
        "x=data.drop(\"quality\",axis=1)"
      ],
      "execution_count": 174,
      "outputs": []
    },
    {
      "cell_type": "code",
      "metadata": {
        "colab": {
          "base_uri": "https://localhost:8080/",
          "height": 206
        },
        "id": "-8lqHKWhH6cW",
        "outputId": "8aa0e807-1293-445f-e781-87b3b1ff5f06"
      },
      "source": [
        "x.head()"
      ],
      "execution_count": 175,
      "outputs": [
        {
          "output_type": "execute_result",
          "data": {
            "text/html": [
              "<div>\n",
              "<style scoped>\n",
              "    .dataframe tbody tr th:only-of-type {\n",
              "        vertical-align: middle;\n",
              "    }\n",
              "\n",
              "    .dataframe tbody tr th {\n",
              "        vertical-align: top;\n",
              "    }\n",
              "\n",
              "    .dataframe thead th {\n",
              "        text-align: right;\n",
              "    }\n",
              "</style>\n",
              "<table border=\"1\" class=\"dataframe\">\n",
              "  <thead>\n",
              "    <tr style=\"text-align: right;\">\n",
              "      <th></th>\n",
              "      <th>fixed acidity</th>\n",
              "      <th>volatile acidity</th>\n",
              "      <th>citric acid</th>\n",
              "      <th>residual sugar</th>\n",
              "      <th>chlorides</th>\n",
              "      <th>free sulfur dioxide</th>\n",
              "      <th>total sulfur dioxide</th>\n",
              "      <th>density</th>\n",
              "      <th>pH</th>\n",
              "      <th>sulphates</th>\n",
              "      <th>alcohol</th>\n",
              "    </tr>\n",
              "  </thead>\n",
              "  <tbody>\n",
              "    <tr>\n",
              "      <th>0</th>\n",
              "      <td>7.4</td>\n",
              "      <td>0.70</td>\n",
              "      <td>0.00</td>\n",
              "      <td>1.9</td>\n",
              "      <td>0.076</td>\n",
              "      <td>11.0</td>\n",
              "      <td>34.0</td>\n",
              "      <td>0.9978</td>\n",
              "      <td>3.51</td>\n",
              "      <td>0.56</td>\n",
              "      <td>9.4</td>\n",
              "    </tr>\n",
              "    <tr>\n",
              "      <th>1</th>\n",
              "      <td>7.8</td>\n",
              "      <td>0.88</td>\n",
              "      <td>0.00</td>\n",
              "      <td>2.6</td>\n",
              "      <td>0.098</td>\n",
              "      <td>25.0</td>\n",
              "      <td>67.0</td>\n",
              "      <td>0.9968</td>\n",
              "      <td>3.20</td>\n",
              "      <td>0.68</td>\n",
              "      <td>9.8</td>\n",
              "    </tr>\n",
              "    <tr>\n",
              "      <th>2</th>\n",
              "      <td>7.8</td>\n",
              "      <td>0.76</td>\n",
              "      <td>0.04</td>\n",
              "      <td>2.3</td>\n",
              "      <td>0.092</td>\n",
              "      <td>15.0</td>\n",
              "      <td>54.0</td>\n",
              "      <td>0.9970</td>\n",
              "      <td>3.26</td>\n",
              "      <td>0.65</td>\n",
              "      <td>9.8</td>\n",
              "    </tr>\n",
              "    <tr>\n",
              "      <th>3</th>\n",
              "      <td>11.2</td>\n",
              "      <td>0.28</td>\n",
              "      <td>0.56</td>\n",
              "      <td>1.9</td>\n",
              "      <td>0.075</td>\n",
              "      <td>17.0</td>\n",
              "      <td>60.0</td>\n",
              "      <td>0.9980</td>\n",
              "      <td>3.16</td>\n",
              "      <td>0.58</td>\n",
              "      <td>9.8</td>\n",
              "    </tr>\n",
              "    <tr>\n",
              "      <th>4</th>\n",
              "      <td>7.4</td>\n",
              "      <td>0.70</td>\n",
              "      <td>0.00</td>\n",
              "      <td>1.9</td>\n",
              "      <td>0.076</td>\n",
              "      <td>11.0</td>\n",
              "      <td>34.0</td>\n",
              "      <td>0.9978</td>\n",
              "      <td>3.51</td>\n",
              "      <td>0.56</td>\n",
              "      <td>9.4</td>\n",
              "    </tr>\n",
              "  </tbody>\n",
              "</table>\n",
              "</div>"
            ],
            "text/plain": [
              "   fixed acidity  volatile acidity  citric acid  ...    pH  sulphates  alcohol\n",
              "0            7.4              0.70         0.00  ...  3.51       0.56      9.4\n",
              "1            7.8              0.88         0.00  ...  3.20       0.68      9.8\n",
              "2            7.8              0.76         0.04  ...  3.26       0.65      9.8\n",
              "3           11.2              0.28         0.56  ...  3.16       0.58      9.8\n",
              "4            7.4              0.70         0.00  ...  3.51       0.56      9.4\n",
              "\n",
              "[5 rows x 11 columns]"
            ]
          },
          "metadata": {},
          "execution_count": 175
        }
      ]
    },
    {
      "cell_type": "code",
      "metadata": {
        "colab": {
          "base_uri": "https://localhost:8080/"
        },
        "id": "jr0TdGpyEftJ",
        "outputId": "e22ca45b-b02d-454a-e189-8f6de65cae2b"
      },
      "source": [
        "y=data.quality\n",
        "y.head()"
      ],
      "execution_count": 176,
      "outputs": [
        {
          "output_type": "execute_result",
          "data": {
            "text/plain": [
              "0    5\n",
              "1    5\n",
              "2    5\n",
              "3    6\n",
              "4    5\n",
              "Name: quality, dtype: int64"
            ]
          },
          "metadata": {},
          "execution_count": 176
        }
      ]
    },
    {
      "cell_type": "code",
      "metadata": {
        "id": "CaKX1SCOElrd"
      },
      "source": [
        "from sklearn.model_selection import train_test_split"
      ],
      "execution_count": 177,
      "outputs": []
    },
    {
      "cell_type": "code",
      "metadata": {
        "id": "8rs8wg8pE0nw"
      },
      "source": [
        "train_data,test_data,train_label,test_label= train_test_split(x,y, test_size=0.2)"
      ],
      "execution_count": 178,
      "outputs": []
    },
    {
      "cell_type": "code",
      "metadata": {
        "id": "u9LbzEnLFaTK"
      },
      "source": [
        "from tensorflow.keras import models\n",
        "from tensorflow.keras import layers\n"
      ],
      "execution_count": 179,
      "outputs": []
    },
    {
      "cell_type": "code",
      "metadata": {
        "colab": {
          "base_uri": "https://localhost:8080/"
        },
        "id": "cJdn0Cz-KUQq",
        "outputId": "ab911f49-2619-430d-e007-c8d6b7e92642"
      },
      "source": [
        "train_data.shape[1]"
      ],
      "execution_count": 180,
      "outputs": [
        {
          "output_type": "execute_result",
          "data": {
            "text/plain": [
              "11"
            ]
          },
          "metadata": {},
          "execution_count": 180
        }
      ]
    },
    {
      "cell_type": "code",
      "metadata": {
        "id": "f9_WzSHDF5gl"
      },
      "source": [
        "model=models.Sequential()"
      ],
      "execution_count": 181,
      "outputs": []
    },
    {
      "cell_type": "code",
      "metadata": {
        "id": "8c9q7iSyGBXT"
      },
      "source": [
        "model.add(layers.Dense(160,activation='relu',input_shape=(11,)))\n",
        "model.add(layers.Dense(20,activation='relu'))\n",
        "model.add(layers.Dense(1))"
      ],
      "execution_count": 182,
      "outputs": []
    },
    {
      "cell_type": "code",
      "metadata": {
        "id": "vcqzVjY0G_-S"
      },
      "source": [
        "model.compile(optimizer='adam',loss=\"mae\")"
      ],
      "execution_count": 183,
      "outputs": []
    },
    {
      "cell_type": "code",
      "metadata": {
        "colab": {
          "base_uri": "https://localhost:8080/"
        },
        "id": "M1Zi_GsAIk2j",
        "outputId": "e1fedffe-17d4-4184-d219-d704ef527d2d"
      },
      "source": [
        "model.fit(train_data,train_label,epochs=70)"
      ],
      "execution_count": 184,
      "outputs": [
        {
          "output_type": "stream",
          "name": "stdout",
          "text": [
            "Epoch 1/70\n",
            "40/40 [==============================] - 0s 2ms/step - loss: 1.1974\n",
            "Epoch 2/70\n",
            "40/40 [==============================] - 0s 2ms/step - loss: 0.6390\n",
            "Epoch 3/70\n",
            "40/40 [==============================] - 0s 2ms/step - loss: 0.5927\n",
            "Epoch 4/70\n",
            "40/40 [==============================] - 0s 2ms/step - loss: 0.5553\n",
            "Epoch 5/70\n",
            "40/40 [==============================] - 0s 2ms/step - loss: 0.5501\n",
            "Epoch 6/70\n",
            "40/40 [==============================] - 0s 2ms/step - loss: 0.5588\n",
            "Epoch 7/70\n",
            "40/40 [==============================] - 0s 2ms/step - loss: 0.5919\n",
            "Epoch 8/70\n",
            "40/40 [==============================] - 0s 2ms/step - loss: 0.5690\n",
            "Epoch 9/70\n",
            "40/40 [==============================] - 0s 2ms/step - loss: 0.5776\n",
            "Epoch 10/70\n",
            "40/40 [==============================] - 0s 3ms/step - loss: 0.5234\n",
            "Epoch 11/70\n",
            "40/40 [==============================] - 0s 2ms/step - loss: 0.5330\n",
            "Epoch 12/70\n",
            "40/40 [==============================] - 0s 2ms/step - loss: 0.5514\n",
            "Epoch 13/70\n",
            "40/40 [==============================] - 0s 2ms/step - loss: 0.5559\n",
            "Epoch 14/70\n",
            "40/40 [==============================] - 0s 2ms/step - loss: 0.5285\n",
            "Epoch 15/70\n",
            "40/40 [==============================] - 0s 2ms/step - loss: 0.5392\n",
            "Epoch 16/70\n",
            "40/40 [==============================] - 0s 2ms/step - loss: 0.5373\n",
            "Epoch 17/70\n",
            "40/40 [==============================] - 0s 2ms/step - loss: 0.5424\n",
            "Epoch 18/70\n",
            "40/40 [==============================] - 0s 2ms/step - loss: 0.5518\n",
            "Epoch 19/70\n",
            "40/40 [==============================] - 0s 2ms/step - loss: 0.5629\n",
            "Epoch 20/70\n",
            "40/40 [==============================] - 0s 2ms/step - loss: 0.5150\n",
            "Epoch 21/70\n",
            "40/40 [==============================] - 0s 2ms/step - loss: 0.5628\n",
            "Epoch 22/70\n",
            "40/40 [==============================] - 0s 2ms/step - loss: 0.5065\n",
            "Epoch 23/70\n",
            "40/40 [==============================] - 0s 2ms/step - loss: 0.5265\n",
            "Epoch 24/70\n",
            "40/40 [==============================] - 0s 2ms/step - loss: 0.5896\n",
            "Epoch 25/70\n",
            "40/40 [==============================] - 0s 2ms/step - loss: 0.5443\n",
            "Epoch 26/70\n",
            "40/40 [==============================] - 0s 2ms/step - loss: 0.5433\n",
            "Epoch 27/70\n",
            "40/40 [==============================] - 0s 2ms/step - loss: 0.5237\n",
            "Epoch 28/70\n",
            "40/40 [==============================] - 0s 2ms/step - loss: 0.5288\n",
            "Epoch 29/70\n",
            "40/40 [==============================] - 0s 2ms/step - loss: 0.5457\n",
            "Epoch 30/70\n",
            "40/40 [==============================] - 0s 2ms/step - loss: 0.5132\n",
            "Epoch 31/70\n",
            "40/40 [==============================] - 0s 2ms/step - loss: 0.5226\n",
            "Epoch 32/70\n",
            "40/40 [==============================] - 0s 2ms/step - loss: 0.5304\n",
            "Epoch 33/70\n",
            "40/40 [==============================] - 0s 2ms/step - loss: 0.5157\n",
            "Epoch 34/70\n",
            "40/40 [==============================] - 0s 2ms/step - loss: 0.5045\n",
            "Epoch 35/70\n",
            "40/40 [==============================] - 0s 2ms/step - loss: 0.5068\n",
            "Epoch 36/70\n",
            "40/40 [==============================] - 0s 2ms/step - loss: 0.5060\n",
            "Epoch 37/70\n",
            "40/40 [==============================] - 0s 2ms/step - loss: 0.5074\n",
            "Epoch 38/70\n",
            "40/40 [==============================] - 0s 2ms/step - loss: 0.5080\n",
            "Epoch 39/70\n",
            "40/40 [==============================] - 0s 2ms/step - loss: 0.5042\n",
            "Epoch 40/70\n",
            "40/40 [==============================] - 0s 2ms/step - loss: 0.5374\n",
            "Epoch 41/70\n",
            "40/40 [==============================] - 0s 2ms/step - loss: 0.5293\n",
            "Epoch 42/70\n",
            "40/40 [==============================] - 0s 2ms/step - loss: 0.5073\n",
            "Epoch 43/70\n",
            "40/40 [==============================] - 0s 2ms/step - loss: 0.5063\n",
            "Epoch 44/70\n",
            "40/40 [==============================] - 0s 2ms/step - loss: 0.5092\n",
            "Epoch 45/70\n",
            "40/40 [==============================] - 0s 2ms/step - loss: 0.5329\n",
            "Epoch 46/70\n",
            "40/40 [==============================] - 0s 2ms/step - loss: 0.5141\n",
            "Epoch 47/70\n",
            "40/40 [==============================] - 0s 2ms/step - loss: 0.5257\n",
            "Epoch 48/70\n",
            "40/40 [==============================] - 0s 2ms/step - loss: 0.5163\n",
            "Epoch 49/70\n",
            "40/40 [==============================] - 0s 2ms/step - loss: 0.5097\n",
            "Epoch 50/70\n",
            "40/40 [==============================] - 0s 2ms/step - loss: 0.5040\n",
            "Epoch 51/70\n",
            "40/40 [==============================] - 0s 2ms/step - loss: 0.5686\n",
            "Epoch 52/70\n",
            "40/40 [==============================] - 0s 2ms/step - loss: 0.5172\n",
            "Epoch 53/70\n",
            "40/40 [==============================] - 0s 2ms/step - loss: 0.4885\n",
            "Epoch 54/70\n",
            "40/40 [==============================] - 0s 2ms/step - loss: 0.5048\n",
            "Epoch 55/70\n",
            "40/40 [==============================] - 0s 2ms/step - loss: 0.4948\n",
            "Epoch 56/70\n",
            "40/40 [==============================] - 0s 2ms/step - loss: 0.4970\n",
            "Epoch 57/70\n",
            "40/40 [==============================] - 0s 2ms/step - loss: 0.4918\n",
            "Epoch 58/70\n",
            "40/40 [==============================] - 0s 2ms/step - loss: 0.4954\n",
            "Epoch 59/70\n",
            "40/40 [==============================] - 0s 2ms/step - loss: 0.5156\n",
            "Epoch 60/70\n",
            "40/40 [==============================] - 0s 2ms/step - loss: 0.5062\n",
            "Epoch 61/70\n",
            "40/40 [==============================] - 0s 2ms/step - loss: 0.5087\n",
            "Epoch 62/70\n",
            "40/40 [==============================] - 0s 2ms/step - loss: 0.5016\n",
            "Epoch 63/70\n",
            "40/40 [==============================] - 0s 2ms/step - loss: 0.5441\n",
            "Epoch 64/70\n",
            "40/40 [==============================] - 0s 2ms/step - loss: 0.4827\n",
            "Epoch 65/70\n",
            "40/40 [==============================] - 0s 2ms/step - loss: 0.4945\n",
            "Epoch 66/70\n",
            "40/40 [==============================] - 0s 2ms/step - loss: 0.4906\n",
            "Epoch 67/70\n",
            "40/40 [==============================] - 0s 2ms/step - loss: 0.4902\n",
            "Epoch 68/70\n",
            "40/40 [==============================] - 0s 2ms/step - loss: 0.4954\n",
            "Epoch 69/70\n",
            "40/40 [==============================] - 0s 2ms/step - loss: 0.4926\n",
            "Epoch 70/70\n",
            "40/40 [==============================] - 0s 2ms/step - loss: 0.4900\n"
          ]
        },
        {
          "output_type": "execute_result",
          "data": {
            "text/plain": [
              "<keras.callbacks.History at 0x7fda74140a50>"
            ]
          },
          "metadata": {},
          "execution_count": 184
        }
      ]
    },
    {
      "cell_type": "code",
      "metadata": {
        "id": "WJljQil0I2ZK"
      },
      "source": [
        ""
      ],
      "execution_count": 184,
      "outputs": []
    }
  ]
}